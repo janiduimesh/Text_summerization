{
 "cells": [
  {
   "cell_type": "code",
   "execution_count": 2,
   "metadata": {},
   "outputs": [
    {
     "name": "stderr",
     "output_type": "stream",
     "text": [
      "[nltk_data] Downloading package punkt to\n",
      "[nltk_data]     C:\\Users\\user\\AppData\\Roaming\\nltk_data...\n",
      "[nltk_data]   Package punkt is already up-to-date!\n"
     ]
    },
    {
     "data": {
      "text/plain": [
       "True"
      ]
     },
     "execution_count": 2,
     "metadata": {},
     "output_type": "execute_result"
    }
   ],
   "source": [
    "# Transformers\n",
    "from transformers import BartTokenizer, BartForConditionalGeneration            # BERT Tokenizer and architecture\n",
    "from transformers import Seq2SeqTrainer, Seq2SeqTrainingArguments               # fine-tune model\n",
    "from transformers import pipeline                                               # pipeline\n",
    "from transformers import DataCollatorForSeq2Seq                                 # DataCollator to batch the data\n",
    "from transformers import EarlyStoppingCallback\n",
    "import torch                                                                    # PyTorch\n",
    "import evaluate                                                                 # Hugging Face's library for model evaluation\n",
    "from datasets import Dataset\n",
    "\n",
    "import numpy as np\n",
    "import pandas as pd\n",
    "import nltk\n",
    "# from textblob import TextBlob                                                 # fix spelling mistakes in texts\n",
    "from sklearn.feature_extraction.text import TfidfVectorizer                     # identify the most common terms in the corpus\n",
    "import re                                                                       # clean text data\n",
    "nltk.download('punkt')                                                          # divides a text into a list of sentences"
   ]
  },
  {
   "cell_type": "code",
   "execution_count": 3,
   "metadata": {},
   "outputs": [
    {
     "name": "stdout",
     "output_type": "stream",
     "text": [
      "GPU is available - Using GPU\n"
     ]
    }
   ],
   "source": [
    "# Checking if GPU is available\n",
    "if torch.cuda.is_available():\n",
    "    print(\"GPU is available - Using GPU\")\n",
    "    device = torch.device('cuda')\n",
    "else:\n",
    "    print(\"GPU is not available - Using CPU\")\n",
    "    device = torch.device('cpu')"
   ]
  },
  {
   "cell_type": "code",
   "execution_count": 4,
   "metadata": {},
   "outputs": [],
   "source": [
    "# allow to fully read the dialogues and its summary \n",
    "pd.set_option('display.max_colwidth', 1000)"
   ]
  },
  {
   "cell_type": "code",
   "execution_count": 5,
   "metadata": {},
   "outputs": [],
   "source": [
    "def display_feature_list(features, feature_type):\n",
    "\n",
    "    '''\n",
    "    This function displays the features within each list for each type of data\n",
    "    '''\n",
    "\n",
    "    print(f\"\\n{feature_type} Features: \")\n",
    "    print(', '.join(features) if features else 'None')\n",
    "\n",
    "def describe_df(df):\n",
    "    \n",
    "    global categorical_features\n",
    "    categorical_features = [col for col in df.columns if df[col].dtype == 'object']\n",
    "\n",
    "    print(f\"\\n{type(df).__name__} shape: {df.shape}\")\n",
    "    print(f\"\\n{df.shape[0]:,.0f} samples\")\n",
    "    print(f'\\nMissing Data: \\n{df.isnull().sum()}')\n",
    "    print(f'\\nDuplicates: {df.duplicated().sum()}')\n",
    "\n",
    "    display_feature_list(categorical_features, 'Categorical')\n",
    "\n",
    "    print(f'\\n{type(df).__name__} Head: \\n')\n",
    "    display(df.head(5))\n",
    "    print(f'\\n{type(df).__name__} Tail: \\n')\n",
    "    display(df.tail(5))"
   ]
  },
  {
   "cell_type": "markdown",
   "metadata": {},
   "source": [
    "#### Exploring the Dataset"
   ]
  },
  {
   "cell_type": "code",
   "execution_count": 6,
   "metadata": {},
   "outputs": [],
   "source": [
    "# Loading data\n",
    "train_df = pd.read_csv('Datasets/samsum/samsum-train.csv')\n",
    "test_df = pd.read_csv('Datasets/samsum/samsum-test.csv')\n",
    "val_df = pd.read_csv('Datasets/samsum/samsum-validation.csv')"
   ]
  },
  {
   "cell_type": "markdown",
   "metadata": {},
   "source": [
    "Training Dataset"
   ]
  },
  {
   "cell_type": "code",
   "execution_count": 7,
   "metadata": {},
   "outputs": [
    {
     "name": "stdout",
     "output_type": "stream",
     "text": [
      "\n",
      "DataFrame shape: (14732, 3)\n",
      "\n",
      "14,732 samples\n",
      "\n",
      "Missing Data: \n",
      "id          0\n",
      "dialogue    1\n",
      "summary     0\n",
      "dtype: int64\n",
      "\n",
      "Duplicates: 0\n",
      "\n",
      "Categorical Features: \n",
      "id, dialogue, summary\n",
      "\n",
      "DataFrame Head: \n",
      "\n"
     ]
    },
    {
     "data": {
      "text/html": [
       "<div>\n",
       "<style scoped>\n",
       "    .dataframe tbody tr th:only-of-type {\n",
       "        vertical-align: middle;\n",
       "    }\n",
       "\n",
       "    .dataframe tbody tr th {\n",
       "        vertical-align: top;\n",
       "    }\n",
       "\n",
       "    .dataframe thead th {\n",
       "        text-align: right;\n",
       "    }\n",
       "</style>\n",
       "<table border=\"1\" class=\"dataframe\">\n",
       "  <thead>\n",
       "    <tr style=\"text-align: right;\">\n",
       "      <th></th>\n",
       "      <th>id</th>\n",
       "      <th>dialogue</th>\n",
       "      <th>summary</th>\n",
       "    </tr>\n",
       "  </thead>\n",
       "  <tbody>\n",
       "    <tr>\n",
       "      <th>0</th>\n",
       "      <td>13818513</td>\n",
       "      <td>Amanda: I baked  cookies. Do you want some?\\r\\nJerry: Sure!\\r\\nAmanda: I'll bring you tomorrow :-)</td>\n",
       "      <td>Amanda baked cookies and will bring Jerry some tomorrow.</td>\n",
       "    </tr>\n",
       "    <tr>\n",
       "      <th>1</th>\n",
       "      <td>13728867</td>\n",
       "      <td>Olivia: Who are you voting for in this election? \\r\\nOliver: Liberals as always.\\r\\nOlivia: Me too!!\\r\\nOliver: Great</td>\n",
       "      <td>Olivia and Olivier are voting for liberals in this election.</td>\n",
       "    </tr>\n",
       "    <tr>\n",
       "      <th>2</th>\n",
       "      <td>13681000</td>\n",
       "      <td>Tim: Hi, what's up?\\r\\nKim: Bad mood tbh, I was going to do lots of stuff but ended up procrastinating\\r\\nTim: What did you plan on doing?\\r\\nKim: Oh you know, uni stuff and unfucking my room\\r\\nKim: Maybe tomorrow I'll move my ass and do everything\\r\\nKim: We were going to defrost a fridge so instead of shopping I'll eat some defrosted veggies\\r\\nTim: For doing stuff I recommend Pomodoro technique where u use breaks for doing chores\\r\\nTim: It really helps\\r\\nKim: thanks, maybe I'll do that\\r\\nTim: I also like using post-its in kaban style</td>\n",
       "      <td>Kim may try the pomodoro technique recommended by Tim to get more stuff done.</td>\n",
       "    </tr>\n",
       "    <tr>\n",
       "      <th>3</th>\n",
       "      <td>13730747</td>\n",
       "      <td>Edward: Rachel, I think I'm in ove with Bella..\\r\\nrachel: Dont say anything else..\\r\\nEdward: What do you mean??\\r\\nrachel: Open your fu**ing door.. I'm outside</td>\n",
       "      <td>Edward thinks he is in love with Bella. Rachel wants Edward to open his door. Rachel is outside.</td>\n",
       "    </tr>\n",
       "    <tr>\n",
       "      <th>4</th>\n",
       "      <td>13728094</td>\n",
       "      <td>Sam: hey  overheard rick say something\\r\\nSam: i don't know what to do :-/\\r\\nNaomi: what did he say??\\r\\nSam: he was talking on the phone with someone\\r\\nSam: i don't know who\\r\\nSam: and he was telling them that he wasn't very happy here\\r\\nNaomi: damn!!!\\r\\nSam: he was saying he doesn't like being my roommate\\r\\nNaomi: wow, how do you feel about it?\\r\\nSam: i thought i was a good rommate\\r\\nSam: and that we have a nice place\\r\\nNaomi: that's true man!!!\\r\\nNaomi: i used to love living with you before i moved in with me boyfriend\\r\\nNaomi: i don't know why he's saying that\\r\\nSam: what should i do???\\r\\nNaomi: honestly if it's bothering you that much you should talk to him\\r\\nNaomi: see what's going on\\r\\nSam: i don't want to get in any kind of confrontation though\\r\\nSam: maybe i'll just let it go\\r\\nSam: and see how it goes in the future\\r\\nNaomi: it's your choice sam\\r\\nNaomi: if i were you i would just talk to him and clear the air</td>\n",
       "      <td>Sam is confused, because he overheard Rick complaining about him as a roommate. Naomi thinks Sam should talk to Rick. Sam is not sure what to do.</td>\n",
       "    </tr>\n",
       "  </tbody>\n",
       "</table>\n",
       "</div>"
      ],
      "text/plain": [
       "         id  \\\n",
       "0  13818513   \n",
       "1  13728867   \n",
       "2  13681000   \n",
       "3  13730747   \n",
       "4  13728094   \n",
       "\n",
       "                                                                                                                                                                                                                                                                                                                                                                                                                                                                                                                                                                                                                                                                                                                                                                                                                                                                                                                                                                                  dialogue  \\\n",
       "0                                                                                                                                                                                                                                                                                                                                                                                                                                                                                                                                                                                                                                                                                                                                                                                                                                                                                       Amanda: I baked  cookies. Do you want some?\\r\\nJerry: Sure!\\r\\nAmanda: I'll bring you tomorrow :-)   \n",
       "1                                                                                                                                                                                                                                                                                                                                                                                                                                                                                                                                                                                                                                                                                                                                                                                                                                                                    Olivia: Who are you voting for in this election? \\r\\nOliver: Liberals as always.\\r\\nOlivia: Me too!!\\r\\nOliver: Great   \n",
       "2                                                                                                                                                                                                                                                                                                                                                                                                                       Tim: Hi, what's up?\\r\\nKim: Bad mood tbh, I was going to do lots of stuff but ended up procrastinating\\r\\nTim: What did you plan on doing?\\r\\nKim: Oh you know, uni stuff and unfucking my room\\r\\nKim: Maybe tomorrow I'll move my ass and do everything\\r\\nKim: We were going to defrost a fridge so instead of shopping I'll eat some defrosted veggies\\r\\nTim: For doing stuff I recommend Pomodoro technique where u use breaks for doing chores\\r\\nTim: It really helps\\r\\nKim: thanks, maybe I'll do that\\r\\nTim: I also like using post-its in kaban style   \n",
       "3                                                                                                                                                                                                                                                                                                                                                                                                                                                                                                                                                                                                                                                                                                                                                                                                                        Edward: Rachel, I think I'm in ove with Bella..\\r\\nrachel: Dont say anything else..\\r\\nEdward: What do you mean??\\r\\nrachel: Open your fu**ing door.. I'm outside   \n",
       "4  Sam: hey  overheard rick say something\\r\\nSam: i don't know what to do :-/\\r\\nNaomi: what did he say??\\r\\nSam: he was talking on the phone with someone\\r\\nSam: i don't know who\\r\\nSam: and he was telling them that he wasn't very happy here\\r\\nNaomi: damn!!!\\r\\nSam: he was saying he doesn't like being my roommate\\r\\nNaomi: wow, how do you feel about it?\\r\\nSam: i thought i was a good rommate\\r\\nSam: and that we have a nice place\\r\\nNaomi: that's true man!!!\\r\\nNaomi: i used to love living with you before i moved in with me boyfriend\\r\\nNaomi: i don't know why he's saying that\\r\\nSam: what should i do???\\r\\nNaomi: honestly if it's bothering you that much you should talk to him\\r\\nNaomi: see what's going on\\r\\nSam: i don't want to get in any kind of confrontation though\\r\\nSam: maybe i'll just let it go\\r\\nSam: and see how it goes in the future\\r\\nNaomi: it's your choice sam\\r\\nNaomi: if i were you i would just talk to him and clear the air   \n",
       "\n",
       "                                                                                                                                             summary  \n",
       "0                                                                                           Amanda baked cookies and will bring Jerry some tomorrow.  \n",
       "1                                                                                      Olivia and Olivier are voting for liberals in this election.   \n",
       "2                                                                      Kim may try the pomodoro technique recommended by Tim to get more stuff done.  \n",
       "3                                                  Edward thinks he is in love with Bella. Rachel wants Edward to open his door. Rachel is outside.   \n",
       "4  Sam is confused, because he overheard Rick complaining about him as a roommate. Naomi thinks Sam should talk to Rick. Sam is not sure what to do.  "
      ]
     },
     "metadata": {},
     "output_type": "display_data"
    },
    {
     "name": "stdout",
     "output_type": "stream",
     "text": [
      "\n",
      "DataFrame Tail: \n",
      "\n"
     ]
    },
    {
     "data": {
      "text/html": [
       "<div>\n",
       "<style scoped>\n",
       "    .dataframe tbody tr th:only-of-type {\n",
       "        vertical-align: middle;\n",
       "    }\n",
       "\n",
       "    .dataframe tbody tr th {\n",
       "        vertical-align: top;\n",
       "    }\n",
       "\n",
       "    .dataframe thead th {\n",
       "        text-align: right;\n",
       "    }\n",
       "</style>\n",
       "<table border=\"1\" class=\"dataframe\">\n",
       "  <thead>\n",
       "    <tr style=\"text-align: right;\">\n",
       "      <th></th>\n",
       "      <th>id</th>\n",
       "      <th>dialogue</th>\n",
       "      <th>summary</th>\n",
       "    </tr>\n",
       "  </thead>\n",
       "  <tbody>\n",
       "    <tr>\n",
       "      <th>14727</th>\n",
       "      <td>13863028</td>\n",
       "      <td>Romeo: You are on my ‘People you may know’ list.\\nGreta: Ah, maybe it is because of the changed number of somebody’s?\\nGreta: I don’t know you?\\nRomeo: This might be the beginning of a beautiful relationship\\nRomeo: How about adding me on your friend list and talk a bit?\\nGreta: No.\\nRomeo: Okay I see.</td>\n",
       "      <td>Romeo is trying to get Greta to add him to her friend list but she refuses.</td>\n",
       "    </tr>\n",
       "    <tr>\n",
       "      <th>14728</th>\n",
       "      <td>13828570</td>\n",
       "      <td>Theresa: &lt;file_photo&gt;\\r\\nTheresa: &lt;file_photo&gt;\\r\\nTheresa: Hey Louise, how are u?\\r\\nTheresa: This is my workplace, they always give us so much food here 😊\\r\\nTheresa: Luckily they also offer us yoga classes, so all the food isn't much of a problem 😂\\r\\nLouise: Hey!! 🙂 \\r\\nLouise: Wow, that's awesome, seems great 😎 Haha\\r\\nLouise: I'm good! Are you coming to visit Stockholm this summer? 🙂\\r\\nTheresa: I don't think so :/ I need to prepare for Uni.. I will probably attend a few lessons this winter\\r\\nLouise: Nice! Do you already know which classes you will attend?\\r\\nTheresa: Yes, it will be psychology :) I want to complete a few modules that I missed :)\\r\\nLouise: Very good! Is it at the Uni in Prague?\\r\\nTheresa: No, it will be in my home town :)\\r\\nLouise: I have so much work right now, but I will continue to work until the end of summer, then I'm also back to Uni, on the 26th September!\\r\\nTheresa: You must send me some pictures, so I can see where you live :) \\r\\nLouise: I will,...</td>\n",
       "      <td>Theresa is at work. She gets free food and free yoga classes. Theresa won't go to visit Louise in Stockholm, because she will prepare for university psychology lessons. She'll be back at uni on 26th September.</td>\n",
       "    </tr>\n",
       "    <tr>\n",
       "      <th>14729</th>\n",
       "      <td>13819050</td>\n",
       "      <td>John: Every day some bad news. Japan will hunt whales again\\r\\nErica: Yes, I've read this. It's very upsetting\\r\\nJohn: Cruel Japanese\\r\\nFaith: I think this is a racist remark. Because Island and Norways has never joined this international whaling agreement\\r\\nErica: really? I haven't known, everybody is so outraged by Japan\\r\\nFaith: sure, European hypocrisy \\r\\nJohn: not entirely. Scandinavians don't use the nets that Japanese use, so Norway and Island kill much less specimens that Japan will\\r\\nFaith: oh, it's much more complex than one may expect\\r\\nJohn: True, but the truth is, that all of them should stop\\r\\nJohn: and this decision is a step back\\r\\nFaith: yes, this is worrying\\r\\nErica: And it seems that the most important whaling countries are out of the agreement right now\\r\\nFaith: yes, seems so\\r\\nJohn: Just like USA leaving the Paris Agreement</td>\n",
       "      <td>Japan is going to hunt whales again. Island and Norway never stopped hunting them. The Scandinavians kill fewer whales than the Japanese.</td>\n",
       "    </tr>\n",
       "    <tr>\n",
       "      <th>14730</th>\n",
       "      <td>13828395</td>\n",
       "      <td>Jennifer: Dear Celia! How are you doing?\\r\\nJennifer: The afternoon with the Collins was very pleasant, nice folks, but we missed you.\\r\\nJennifer: But I appreciate your consideration for Peter.\\r\\nCelia: My dear Jenny! It turns out that my decision not to come, though I wanted so much to see you again and Peter and the Collins, was right. Yesterday it all developed into a full bore cold. Sh.....\\r\\nCelia: All symptoms like in a text book.\\r\\nCelia: Luckily it's contagious only on the first 2, 3 days, so when we meet next week it should be alright.\\r\\nCelia: Thanks for asking! Somehow for all of us Peter comes first now.\\r\\nJennifer: That's too bad. Poor you...\\r\\nJennifer: I'll be driving to FR, do you want me to bring you sth? It's on my way.\\r\\nCelia: Thank you dear! I was at the pharmacy yesterday and had done my shopping the day before.\\r\\nCelia: You'd better still stay away from me in case I'm still contagious\\r\\nJennifer: Right. So I'll only leave a basket on your terrace. A...</td>\n",
       "      <td>Celia couldn't make it to the afternoon with the Collins and Jennifer as she is ill. She's working, but doesn't want to meet with Jennifer as it might be contagious. Jennifer will leave a basket with cookies on Celia's terrace.</td>\n",
       "    </tr>\n",
       "    <tr>\n",
       "      <th>14731</th>\n",
       "      <td>13729017</td>\n",
       "      <td>Georgia: are you ready for hotel hunting? We need to book something finally for Lisbon\\r\\nJuliette: sure we can go on, show me what you found\\r\\nGeorgia: &lt;file_photo&gt;\\r\\nJuliette: nah... it looks like an old lady's room lol\\r\\nGeorgia: &lt;file_photo&gt;\\r\\nJuliette: that's better... but the bed doesn't look very comfortable\\r\\nGeorgia: i kind of like it and it's really close to the city center\\r\\nJuliette: show me the others please\\r\\nGeorgia: &lt;file_photo&gt;\\r\\nJuliette: nah... this one sucks too, look at those horrible curtains \\r\\nGeorgia: aff Julie you are such a princess\\r\\nJuliette: i just want to be comfortable\\r\\nGeorgia: come on, stop whining you know we are on a budget\\r\\nJuliette: well hopefully we can find something that's decent right?\\r\\nGeorgia: i did show you decent but you want a Marriott or something :/\\r\\nJuliette: ok ok don't get angry\\r\\nGeorgia: we need to decide today, the longer we wait the higher the prices get \\r\\nJuliette: ok how about we get the second one then?...</td>\n",
       "      <td>Georgia and Juliette are looking for a hotel in Lisbon. Juliette dislikes Georgia's choices. Juliette and Georgia decide on the second option presented by Georgia, but it has already been booked. Finally Georgia books the third hotel.</td>\n",
       "    </tr>\n",
       "  </tbody>\n",
       "</table>\n",
       "</div>"
      ],
      "text/plain": [
       "             id  \\\n",
       "14727  13863028   \n",
       "14728  13828570   \n",
       "14729  13819050   \n",
       "14730  13828395   \n",
       "14731  13729017   \n",
       "\n",
       "                                                                                                                                                                                                                                                                                                                                                                                                                                                                                                                                                                                                                                                                                                                                                                                                                                                                                                                                                                                                                                      dialogue  \\\n",
       "14727                                                                                                                                                                                                                                                                                                                                                                                                                                                                                                                                                                                                                                                                                                                          Romeo: You are on my ‘People you may know’ list.\\nGreta: Ah, maybe it is because of the changed number of somebody’s?\\nGreta: I don’t know you?\\nRomeo: This might be the beginning of a beautiful relationship\\nRomeo: How about adding me on your friend list and talk a bit?\\nGreta: No.\\nRomeo: Okay I see.   \n",
       "14728  Theresa: <file_photo>\\r\\nTheresa: <file_photo>\\r\\nTheresa: Hey Louise, how are u?\\r\\nTheresa: This is my workplace, they always give us so much food here 😊\\r\\nTheresa: Luckily they also offer us yoga classes, so all the food isn't much of a problem 😂\\r\\nLouise: Hey!! 🙂 \\r\\nLouise: Wow, that's awesome, seems great 😎 Haha\\r\\nLouise: I'm good! Are you coming to visit Stockholm this summer? 🙂\\r\\nTheresa: I don't think so :/ I need to prepare for Uni.. I will probably attend a few lessons this winter\\r\\nLouise: Nice! Do you already know which classes you will attend?\\r\\nTheresa: Yes, it will be psychology :) I want to complete a few modules that I missed :)\\r\\nLouise: Very good! Is it at the Uni in Prague?\\r\\nTheresa: No, it will be in my home town :)\\r\\nLouise: I have so much work right now, but I will continue to work until the end of summer, then I'm also back to Uni, on the 26th September!\\r\\nTheresa: You must send me some pictures, so I can see where you live :) \\r\\nLouise: I will,...   \n",
       "14729                                                                                                                                     John: Every day some bad news. Japan will hunt whales again\\r\\nErica: Yes, I've read this. It's very upsetting\\r\\nJohn: Cruel Japanese\\r\\nFaith: I think this is a racist remark. Because Island and Norways has never joined this international whaling agreement\\r\\nErica: really? I haven't known, everybody is so outraged by Japan\\r\\nFaith: sure, European hypocrisy \\r\\nJohn: not entirely. Scandinavians don't use the nets that Japanese use, so Norway and Island kill much less specimens that Japan will\\r\\nFaith: oh, it's much more complex than one may expect\\r\\nJohn: True, but the truth is, that all of them should stop\\r\\nJohn: and this decision is a step back\\r\\nFaith: yes, this is worrying\\r\\nErica: And it seems that the most important whaling countries are out of the agreement right now\\r\\nFaith: yes, seems so\\r\\nJohn: Just like USA leaving the Paris Agreement   \n",
       "14730  Jennifer: Dear Celia! How are you doing?\\r\\nJennifer: The afternoon with the Collins was very pleasant, nice folks, but we missed you.\\r\\nJennifer: But I appreciate your consideration for Peter.\\r\\nCelia: My dear Jenny! It turns out that my decision not to come, though I wanted so much to see you again and Peter and the Collins, was right. Yesterday it all developed into a full bore cold. Sh.....\\r\\nCelia: All symptoms like in a text book.\\r\\nCelia: Luckily it's contagious only on the first 2, 3 days, so when we meet next week it should be alright.\\r\\nCelia: Thanks for asking! Somehow for all of us Peter comes first now.\\r\\nJennifer: That's too bad. Poor you...\\r\\nJennifer: I'll be driving to FR, do you want me to bring you sth? It's on my way.\\r\\nCelia: Thank you dear! I was at the pharmacy yesterday and had done my shopping the day before.\\r\\nCelia: You'd better still stay away from me in case I'm still contagious\\r\\nJennifer: Right. So I'll only leave a basket on your terrace. A...   \n",
       "14731  Georgia: are you ready for hotel hunting? We need to book something finally for Lisbon\\r\\nJuliette: sure we can go on, show me what you found\\r\\nGeorgia: <file_photo>\\r\\nJuliette: nah... it looks like an old lady's room lol\\r\\nGeorgia: <file_photo>\\r\\nJuliette: that's better... but the bed doesn't look very comfortable\\r\\nGeorgia: i kind of like it and it's really close to the city center\\r\\nJuliette: show me the others please\\r\\nGeorgia: <file_photo>\\r\\nJuliette: nah... this one sucks too, look at those horrible curtains \\r\\nGeorgia: aff Julie you are such a princess\\r\\nJuliette: i just want to be comfortable\\r\\nGeorgia: come on, stop whining you know we are on a budget\\r\\nJuliette: well hopefully we can find something that's decent right?\\r\\nGeorgia: i did show you decent but you want a Marriott or something :/\\r\\nJuliette: ok ok don't get angry\\r\\nGeorgia: we need to decide today, the longer we wait the higher the prices get \\r\\nJuliette: ok how about we get the second one then?...   \n",
       "\n",
       "                                                                                                                                                                                                                                           summary  \n",
       "14727                                                                                                                                                                  Romeo is trying to get Greta to add him to her friend list but she refuses.  \n",
       "14728                            Theresa is at work. She gets free food and free yoga classes. Theresa won't go to visit Louise in Stockholm, because she will prepare for university psychology lessons. She'll be back at uni on 26th September.  \n",
       "14729                                                                                                    Japan is going to hunt whales again. Island and Norway never stopped hunting them. The Scandinavians kill fewer whales than the Japanese.  \n",
       "14730         Celia couldn't make it to the afternoon with the Collins and Jennifer as she is ill. She's working, but doesn't want to meet with Jennifer as it might be contagious. Jennifer will leave a basket with cookies on Celia's terrace.   \n",
       "14731  Georgia and Juliette are looking for a hotel in Lisbon. Juliette dislikes Georgia's choices. Juliette and Georgia decide on the second option presented by Georgia, but it has already been booked. Finally Georgia books the third hotel.   "
      ]
     },
     "metadata": {},
     "output_type": "display_data"
    }
   ],
   "source": [
    "# Extracting info on the training Dataframe\n",
    "describe_df(train_df)"
   ]
  },
  {
   "cell_type": "code",
   "execution_count": 8,
   "metadata": {},
   "outputs": [
    {
     "data": {
      "text/html": [
       "<div>\n",
       "<style scoped>\n",
       "    .dataframe tbody tr th:only-of-type {\n",
       "        vertical-align: middle;\n",
       "    }\n",
       "\n",
       "    .dataframe tbody tr th {\n",
       "        vertical-align: top;\n",
       "    }\n",
       "\n",
       "    .dataframe thead th {\n",
       "        text-align: right;\n",
       "    }\n",
       "</style>\n",
       "<table border=\"1\" class=\"dataframe\">\n",
       "  <thead>\n",
       "    <tr style=\"text-align: right;\">\n",
       "      <th></th>\n",
       "      <th>id</th>\n",
       "      <th>dialogue</th>\n",
       "      <th>summary</th>\n",
       "    </tr>\n",
       "  </thead>\n",
       "  <tbody>\n",
       "    <tr>\n",
       "      <th>6054</th>\n",
       "      <td>13828807</td>\n",
       "      <td>NaN</td>\n",
       "      <td>problem with visualization of the content</td>\n",
       "    </tr>\n",
       "  </tbody>\n",
       "</table>\n",
       "</div>"
      ],
      "text/plain": [
       "            id dialogue                                    summary\n",
       "6054  13828807      NaN  problem with visualization of the content"
      ]
     },
     "execution_count": 8,
     "metadata": {},
     "output_type": "execute_result"
    }
   ],
   "source": [
    "# one of the dialogues is empty\n",
    "# null dialogues\n",
    "NullRaws = train_df['dialogue'].isnull()\n",
    "filtered_train = train_df[NullRaws] \n",
    "filtered_train "
   ]
  },
  {
   "cell_type": "code",
   "execution_count": 9,
   "metadata": {},
   "outputs": [],
   "source": [
    "# removing all null values\n",
    "train_df = train_df.dropna() "
   ]
  },
  {
   "cell_type": "markdown",
   "metadata": {},
   "source": [
    "Test Dataset"
   ]
  },
  {
   "cell_type": "code",
   "execution_count": 11,
   "metadata": {},
   "outputs": [
    {
     "name": "stdout",
     "output_type": "stream",
     "text": [
      "\n",
      "DataFrame shape: (819, 3)\n",
      "\n",
      "819 samples\n",
      "\n",
      "Missing Data: \n",
      "id          0\n",
      "dialogue    0\n",
      "summary     0\n",
      "dtype: int64\n",
      "\n",
      "Duplicates: 0\n",
      "\n",
      "Categorical Features: \n",
      "id, dialogue, summary\n",
      "\n",
      "DataFrame Head: \n",
      "\n"
     ]
    },
    {
     "data": {
      "text/html": [
       "<div>\n",
       "<style scoped>\n",
       "    .dataframe tbody tr th:only-of-type {\n",
       "        vertical-align: middle;\n",
       "    }\n",
       "\n",
       "    .dataframe tbody tr th {\n",
       "        vertical-align: top;\n",
       "    }\n",
       "\n",
       "    .dataframe thead th {\n",
       "        text-align: right;\n",
       "    }\n",
       "</style>\n",
       "<table border=\"1\" class=\"dataframe\">\n",
       "  <thead>\n",
       "    <tr style=\"text-align: right;\">\n",
       "      <th></th>\n",
       "      <th>id</th>\n",
       "      <th>dialogue</th>\n",
       "      <th>summary</th>\n",
       "    </tr>\n",
       "  </thead>\n",
       "  <tbody>\n",
       "    <tr>\n",
       "      <th>0</th>\n",
       "      <td>13862856</td>\n",
       "      <td>Hannah: Hey, do you have Betty's number?\\nAmanda: Lemme check\\nHannah: &lt;file_gif&gt;\\nAmanda: Sorry, can't find it.\\nAmanda: Ask Larry\\nAmanda: He called her last time we were at the park together\\nHannah: I don't know him well\\nHannah: &lt;file_gif&gt;\\nAmanda: Don't be shy, he's very nice\\nHannah: If you say so..\\nHannah: I'd rather you texted him\\nAmanda: Just text him 🙂\\nHannah: Urgh.. Alright\\nHannah: Bye\\nAmanda: Bye bye</td>\n",
       "      <td>Hannah needs Betty's number but Amanda doesn't have it. She needs to contact Larry.</td>\n",
       "    </tr>\n",
       "    <tr>\n",
       "      <th>1</th>\n",
       "      <td>13729565</td>\n",
       "      <td>Eric: MACHINE!\\r\\nRob: That's so gr8!\\r\\nEric: I know! And shows how Americans see Russian ;)\\r\\nRob: And it's really funny!\\r\\nEric: I know! I especially like the train part!\\r\\nRob: Hahaha! No one talks to the machine like that!\\r\\nEric: Is this his only stand-up?\\r\\nRob: Idk. I'll check.\\r\\nEric: Sure.\\r\\nRob: Turns out no! There are some of his stand-ups on youtube.\\r\\nEric: Gr8! I'll watch them now!\\r\\nRob: Me too!\\r\\nEric: MACHINE!\\r\\nRob: MACHINE!\\r\\nEric: TTYL?\\r\\nRob: Sure :)</td>\n",
       "      <td>Eric and Rob are going to watch a stand-up on youtube.</td>\n",
       "    </tr>\n",
       "    <tr>\n",
       "      <th>2</th>\n",
       "      <td>13680171</td>\n",
       "      <td>Lenny: Babe, can you help me with something?\\r\\nBob: Sure, what's up?\\r\\nLenny: Which one should I pick?\\r\\nBob: Send me photos\\r\\nLenny:  &lt;file_photo&gt;\\r\\nLenny:  &lt;file_photo&gt;\\r\\nLenny:  &lt;file_photo&gt;\\r\\nBob: I like the first ones best\\r\\nLenny: But I already have purple trousers. Does it make sense to have two pairs?\\r\\nBob: I have four black pairs :D :D\\r\\nLenny: yeah, but shouldn't I pick a different color?\\r\\nBob: what matters is what you'll give you the most outfit options\\r\\nLenny: So I guess I'll buy the first or the third pair then\\r\\nBob: Pick the best quality then\\r\\nLenny: ur right, thx\\r\\nBob: no prob :)</td>\n",
       "      <td>Lenny can't decide which trousers to buy. Bob advised Lenny on that topic. Lenny goes with Bob's advice to pick the trousers that are of best quality.</td>\n",
       "    </tr>\n",
       "    <tr>\n",
       "      <th>3</th>\n",
       "      <td>13729438</td>\n",
       "      <td>Will: hey babe, what do you want for dinner tonight?\\r\\nEmma:  gah, don't even worry about it tonight\\r\\nWill: what do you mean? everything ok?\\r\\nEmma: not really, but it's ok, don't worry about cooking though, I'm not hungry\\r\\nWill: Well what time will you be home?\\r\\nEmma: soon, hopefully\\r\\nWill: you sure? Maybe you want me to pick you up?\\r\\nEmma: no no it's alright. I'll be home soon, i'll tell you when I get home. \\r\\nWill: Alright, love you. \\r\\nEmma: love you too.</td>\n",
       "      <td>Emma will be home soon and she will let Will know.</td>\n",
       "    </tr>\n",
       "    <tr>\n",
       "      <th>4</th>\n",
       "      <td>13828600</td>\n",
       "      <td>Ollie: Hi , are you in Warsaw\\r\\nJane: yes, just back! Btw are you free for diner the 19th?\\r\\nOllie: nope!\\r\\nJane: and the  18th?\\r\\nOllie: nope, we have this party and you must be there, remember?\\r\\nJane: oh right! i lost my calendar..  thanks for reminding me\\r\\nOllie: we have lunch this week?\\r\\nJane: with pleasure!\\r\\nOllie: friday?\\r\\nJane: ok\\r\\nJane: what do you mean \" we don't have any more whisky!\" lol..\\r\\nOllie: what!!!\\r\\nJane: you just call me and the all thing i heard was that sentence about whisky... what's wrong with you?\\r\\nOllie: oh oh... very strange! i have to be carefull may be there is some spy in my mobile! lol\\r\\nJane: dont' worry, we'll check on friday.\\r\\nOllie: don't forget to bring some sun with you\\r\\nJane: I can't wait to be in Morocco..\\r\\nOllie: enjoy and see you friday\\r\\nJane: sorry Ollie, i'm very busy, i won't have time for lunch  tomorrow, but may be at 6pm after my courses?this trip to Morocco was so nice, but time consuming!\\r\\nOllie: ok fo...</td>\n",
       "      <td>Jane is in Warsaw. Ollie and Jane has a party. Jane lost her calendar. They will get a lunch this week on Friday. Ollie accidentally called Jane and talked about whisky. Jane cancels lunch. They'll meet for a tea at 6 pm.</td>\n",
       "    </tr>\n",
       "  </tbody>\n",
       "</table>\n",
       "</div>"
      ],
      "text/plain": [
       "         id  \\\n",
       "0  13862856   \n",
       "1  13729565   \n",
       "2  13680171   \n",
       "3  13729438   \n",
       "4  13828600   \n",
       "\n",
       "                                                                                                                                                                                                                                                                                                                                                                                                                                                                                                                                                                                                                                                                                                                                                                                                                                                                                                                                                                                                                                  dialogue  \\\n",
       "0                                                                                                                                                                                                                                                                                                                                                                                                                                                                                                                                                                                                    Hannah: Hey, do you have Betty's number?\\nAmanda: Lemme check\\nHannah: <file_gif>\\nAmanda: Sorry, can't find it.\\nAmanda: Ask Larry\\nAmanda: He called her last time we were at the park together\\nHannah: I don't know him well\\nHannah: <file_gif>\\nAmanda: Don't be shy, he's very nice\\nHannah: If you say so..\\nHannah: I'd rather you texted him\\nAmanda: Just text him 🙂\\nHannah: Urgh.. Alright\\nHannah: Bye\\nAmanda: Bye bye   \n",
       "1                                                                                                                                                                                                                                                                                                                                                                                                                                                                                                                                Eric: MACHINE!\\r\\nRob: That's so gr8!\\r\\nEric: I know! And shows how Americans see Russian ;)\\r\\nRob: And it's really funny!\\r\\nEric: I know! I especially like the train part!\\r\\nRob: Hahaha! No one talks to the machine like that!\\r\\nEric: Is this his only stand-up?\\r\\nRob: Idk. I'll check.\\r\\nEric: Sure.\\r\\nRob: Turns out no! There are some of his stand-ups on youtube.\\r\\nEric: Gr8! I'll watch them now!\\r\\nRob: Me too!\\r\\nEric: MACHINE!\\r\\nRob: MACHINE!\\r\\nEric: TTYL?\\r\\nRob: Sure :)   \n",
       "2                                                                                                                                                                                                                                                                                                                                                                                           Lenny: Babe, can you help me with something?\\r\\nBob: Sure, what's up?\\r\\nLenny: Which one should I pick?\\r\\nBob: Send me photos\\r\\nLenny:  <file_photo>\\r\\nLenny:  <file_photo>\\r\\nLenny:  <file_photo>\\r\\nBob: I like the first ones best\\r\\nLenny: But I already have purple trousers. Does it make sense to have two pairs?\\r\\nBob: I have four black pairs :D :D\\r\\nLenny: yeah, but shouldn't I pick a different color?\\r\\nBob: what matters is what you'll give you the most outfit options\\r\\nLenny: So I guess I'll buy the first or the third pair then\\r\\nBob: Pick the best quality then\\r\\nLenny: ur right, thx\\r\\nBob: no prob :)   \n",
       "3                                                                                                                                                                                                                                                                                                                                                                                                                                                                                                                                          Will: hey babe, what do you want for dinner tonight?\\r\\nEmma:  gah, don't even worry about it tonight\\r\\nWill: what do you mean? everything ok?\\r\\nEmma: not really, but it's ok, don't worry about cooking though, I'm not hungry\\r\\nWill: Well what time will you be home?\\r\\nEmma: soon, hopefully\\r\\nWill: you sure? Maybe you want me to pick you up?\\r\\nEmma: no no it's alright. I'll be home soon, i'll tell you when I get home. \\r\\nWill: Alright, love you. \\r\\nEmma: love you too.    \n",
       "4  Ollie: Hi , are you in Warsaw\\r\\nJane: yes, just back! Btw are you free for diner the 19th?\\r\\nOllie: nope!\\r\\nJane: and the  18th?\\r\\nOllie: nope, we have this party and you must be there, remember?\\r\\nJane: oh right! i lost my calendar..  thanks for reminding me\\r\\nOllie: we have lunch this week?\\r\\nJane: with pleasure!\\r\\nOllie: friday?\\r\\nJane: ok\\r\\nJane: what do you mean \" we don't have any more whisky!\" lol..\\r\\nOllie: what!!!\\r\\nJane: you just call me and the all thing i heard was that sentence about whisky... what's wrong with you?\\r\\nOllie: oh oh... very strange! i have to be carefull may be there is some spy in my mobile! lol\\r\\nJane: dont' worry, we'll check on friday.\\r\\nOllie: don't forget to bring some sun with you\\r\\nJane: I can't wait to be in Morocco..\\r\\nOllie: enjoy and see you friday\\r\\nJane: sorry Ollie, i'm very busy, i won't have time for lunch  tomorrow, but may be at 6pm after my courses?this trip to Morocco was so nice, but time consuming!\\r\\nOllie: ok fo...   \n",
       "\n",
       "                                                                                                                                                                                                                         summary  \n",
       "0                                                                                                                                            Hannah needs Betty's number but Amanda doesn't have it. She needs to contact Larry.  \n",
       "1                                                                                                                                                                         Eric and Rob are going to watch a stand-up on youtube.  \n",
       "2                                                                         Lenny can't decide which trousers to buy. Bob advised Lenny on that topic. Lenny goes with Bob's advice to pick the trousers that are of best quality.  \n",
       "3                                                                                                                                                                             Emma will be home soon and she will let Will know.  \n",
       "4  Jane is in Warsaw. Ollie and Jane has a party. Jane lost her calendar. They will get a lunch this week on Friday. Ollie accidentally called Jane and talked about whisky. Jane cancels lunch. They'll meet for a tea at 6 pm.  "
      ]
     },
     "metadata": {},
     "output_type": "display_data"
    },
    {
     "name": "stdout",
     "output_type": "stream",
     "text": [
      "\n",
      "DataFrame Tail: \n",
      "\n"
     ]
    },
    {
     "data": {
      "text/html": [
       "<div>\n",
       "<style scoped>\n",
       "    .dataframe tbody tr th:only-of-type {\n",
       "        vertical-align: middle;\n",
       "    }\n",
       "\n",
       "    .dataframe tbody tr th {\n",
       "        vertical-align: top;\n",
       "    }\n",
       "\n",
       "    .dataframe thead th {\n",
       "        text-align: right;\n",
       "    }\n",
       "</style>\n",
       "<table border=\"1\" class=\"dataframe\">\n",
       "  <thead>\n",
       "    <tr style=\"text-align: right;\">\n",
       "      <th></th>\n",
       "      <th>id</th>\n",
       "      <th>dialogue</th>\n",
       "      <th>summary</th>\n",
       "    </tr>\n",
       "  </thead>\n",
       "  <tbody>\n",
       "    <tr>\n",
       "      <th>814</th>\n",
       "      <td>13611902-1</td>\n",
       "      <td>Alex: Were you able to attend Friday night's basketball game?\\r\\nBenjamin: I was unable to make it.\\r\\nAlex: You should have been there. It was intense.\\r\\nBenjamin: Is that right. Who ended up winning?\\r\\nAlex: Our team was victorious.\\r\\nBenjamin: I wish I was free that night. I'm kind of mad that I didn't go.\\r\\nAlex: It was a great game. Everything alright tough?\\r\\nBenjamin: Yeah man thanks for asking, it's just that my mom is sick and I am taking care of her.\\r\\nAlex: Oh sorry to hear that. Hope she makes a fast recovery 💪\\r\\nBenjamin: She will, she just has a nasty flu but she will be alright :D\\r\\nAlex: Glad to hear that!\\r\\nBenjamin: What was the score at the end of the game?\\r\\nAlex: Our team won 101-98.\\r\\nBenjamin: Sounds like it was a close game then.\\r\\nAlex: That's the reason it was such a great game.\\r\\nBenjamin: I'll go to the next one for sure.\\r\\nAlex: It's next weekend so you better put on your calendar ahaha\\r\\nBenjamin: ahaha I will I will. Talk to you later!\\...</td>\n",
       "      <td>Benjamin didn't come to see a basketball game on Friday's night. The team supported by Alex won 101-98. Benjamin's mom has a flu and he's looking after her. Benjamin declares to attend the next basketball match.</td>\n",
       "    </tr>\n",
       "    <tr>\n",
       "      <th>815</th>\n",
       "      <td>13820989</td>\n",
       "      <td>Jamilla: remember that the audition starts at 7.30 P.M.\\r\\nKiki: which station?\\r\\nJamilla: Antena 3\\r\\nYoyo: roger that</td>\n",
       "      <td>The audition starts at 7.30 P.M. in Antena 3.</td>\n",
       "    </tr>\n",
       "    <tr>\n",
       "      <th>816</th>\n",
       "      <td>13717193</td>\n",
       "      <td>Marta: &lt;file_gif&gt;\\r\\nMarta: Sorry girls, I clicked something by accident :D\\r\\nAgnieszka: No problem :p\\r\\nWeronika: Hahaha\\r\\nAgnieszka: Good thing you didn't send something from your gallery ;)</td>\n",
       "      <td>Marta sent a file accidentally,</td>\n",
       "    </tr>\n",
       "    <tr>\n",
       "      <th>817</th>\n",
       "      <td>13829115</td>\n",
       "      <td>Cora: Have you heard how much fuss British media made about meet and greet with James Charles in Birmingham?\\r\\nEllie: no...! what happened?\\r\\nCora: Well, there was a meet and greet with James Charles in one of the malls in Birmingham and about 8000 fans showed up for it.\\r\\nCora: It cause a gridlock around the mall and - of course - British media had to make some (quite negative) comments on it.\\r\\nEllie: they came for sister James?! &gt;:(\\r\\nEllie: i sister snapped!! :p :D\\r\\nCora: Haha :D\\r\\nCora: You shouldn't watch so much youtube, you're getting weirder and weirder. :d\\r\\nEllie: sister shut up :P so, what did they say?\\r\\nCora: ;) :* \"Daily Mail\" was surprised that a meet and greet with a \"virtually unknown\" youtuber gathered 8000 people. :p\\r\\nCora: A host from LBC tried to find an answer to an unanswerable question: \"Who is James Charles?\". Eventually James called him and introduced himself. On air. :D\\r\\nEllie: there's something called google lol\\r\\nCora: Right? :p\\r\\nCora:...</td>\n",
       "      <td>There was a meet-and-greet with James Charles in Birmingham which gathered 8000  people.</td>\n",
       "    </tr>\n",
       "    <tr>\n",
       "      <th>818</th>\n",
       "      <td>13818810</td>\n",
       "      <td>Rachel: &lt;file_other&gt;\\r\\nRachel: Top 50 Best Films of 2018\\r\\nRachel: :)\\r\\nJanice: Omg, I've watched almost all 50... xDD\\r\\nSpencer: Hahah, Deadpool 2 also??\\r\\nJanice: Yep\\r\\nSpencer: Really??\\r\\nJanice: My bf forced me to watch it xD\\r\\nRachel: Hahah\\r\\nJanice: It wasn't that bad\\r\\nJanice: I thought it'd be worse\\r\\nRachel: And Avengers? :D\\r\\nJanice: 2 times\\r\\nRachel: Omg\\r\\nJanice: xP\\r\\nRachel: You are the best gf in the world\\r\\nRachel: Your bf should appreciate that ;-)\\r\\nJanice: He does\\r\\nJanice: x)</td>\n",
       "      <td>Rachel sends a list of Top 50 films of 2018. Janice watched almost half of them, Deadpool 2 and Avengers included.</td>\n",
       "    </tr>\n",
       "  </tbody>\n",
       "</table>\n",
       "</div>"
      ],
      "text/plain": [
       "             id  \\\n",
       "814  13611902-1   \n",
       "815    13820989   \n",
       "816    13717193   \n",
       "817    13829115   \n",
       "818    13818810   \n",
       "\n",
       "                                                                                                                                                                                                                                                                                                                                                                                                                                                                                                                                                                                                                                                                                                                                                                                                                                                                                                                                                                                                                                    dialogue  \\\n",
       "814  Alex: Were you able to attend Friday night's basketball game?\\r\\nBenjamin: I was unable to make it.\\r\\nAlex: You should have been there. It was intense.\\r\\nBenjamin: Is that right. Who ended up winning?\\r\\nAlex: Our team was victorious.\\r\\nBenjamin: I wish I was free that night. I'm kind of mad that I didn't go.\\r\\nAlex: It was a great game. Everything alright tough?\\r\\nBenjamin: Yeah man thanks for asking, it's just that my mom is sick and I am taking care of her.\\r\\nAlex: Oh sorry to hear that. Hope she makes a fast recovery 💪\\r\\nBenjamin: She will, she just has a nasty flu but she will be alright :D\\r\\nAlex: Glad to hear that!\\r\\nBenjamin: What was the score at the end of the game?\\r\\nAlex: Our team won 101-98.\\r\\nBenjamin: Sounds like it was a close game then.\\r\\nAlex: That's the reason it was such a great game.\\r\\nBenjamin: I'll go to the next one for sure.\\r\\nAlex: It's next weekend so you better put on your calendar ahaha\\r\\nBenjamin: ahaha I will I will. Talk to you later!\\...   \n",
       "815                                                                                                                                                                                                                                                                                                                                                                                                                                                                                                                                                                                                                                                                                                                                                                                                                                                                                                                 Jamilla: remember that the audition starts at 7.30 P.M.\\r\\nKiki: which station?\\r\\nJamilla: Antena 3\\r\\nYoyo: roger that   \n",
       "816                                                                                                                                                                                                                                                                                                                                                                                                                                                                                                                                                                                                                                                                                                                                                                                                                                      Marta: <file_gif>\\r\\nMarta: Sorry girls, I clicked something by accident :D\\r\\nAgnieszka: No problem :p\\r\\nWeronika: Hahaha\\r\\nAgnieszka: Good thing you didn't send something from your gallery ;)   \n",
       "817  Cora: Have you heard how much fuss British media made about meet and greet with James Charles in Birmingham?\\r\\nEllie: no...! what happened?\\r\\nCora: Well, there was a meet and greet with James Charles in one of the malls in Birmingham and about 8000 fans showed up for it.\\r\\nCora: It cause a gridlock around the mall and - of course - British media had to make some (quite negative) comments on it.\\r\\nEllie: they came for sister James?! >:(\\r\\nEllie: i sister snapped!! :p :D\\r\\nCora: Haha :D\\r\\nCora: You shouldn't watch so much youtube, you're getting weirder and weirder. :d\\r\\nEllie: sister shut up :P so, what did they say?\\r\\nCora: ;) :* \"Daily Mail\" was surprised that a meet and greet with a \"virtually unknown\" youtuber gathered 8000 people. :p\\r\\nCora: A host from LBC tried to find an answer to an unanswerable question: \"Who is James Charles?\". Eventually James called him and introduced himself. On air. :D\\r\\nEllie: there's something called google lol\\r\\nCora: Right? :p\\r\\nCora:...   \n",
       "818                                                                                                                                                                                                                                                                                                                                                                                                                                                                                                    Rachel: <file_other>\\r\\nRachel: Top 50 Best Films of 2018\\r\\nRachel: :)\\r\\nJanice: Omg, I've watched almost all 50... xDD\\r\\nSpencer: Hahah, Deadpool 2 also??\\r\\nJanice: Yep\\r\\nSpencer: Really??\\r\\nJanice: My bf forced me to watch it xD\\r\\nRachel: Hahah\\r\\nJanice: It wasn't that bad\\r\\nJanice: I thought it'd be worse\\r\\nRachel: And Avengers? :D\\r\\nJanice: 2 times\\r\\nRachel: Omg\\r\\nJanice: xP\\r\\nRachel: You are the best gf in the world\\r\\nRachel: Your bf should appreciate that ;-)\\r\\nJanice: He does\\r\\nJanice: x)   \n",
       "\n",
       "                                                                                                                                                                                                                 summary  \n",
       "814  Benjamin didn't come to see a basketball game on Friday's night. The team supported by Alex won 101-98. Benjamin's mom has a flu and he's looking after her. Benjamin declares to attend the next basketball match.  \n",
       "815                                                                                                                                                                        The audition starts at 7.30 P.M. in Antena 3.  \n",
       "816                                                                                                                                                                                      Marta sent a file accidentally,  \n",
       "817                                                                                                                             There was a meet-and-greet with James Charles in Birmingham which gathered 8000  people.  \n",
       "818                                                                                                   Rachel sends a list of Top 50 films of 2018. Janice watched almost half of them, Deadpool 2 and Avengers included.  "
      ]
     },
     "metadata": {},
     "output_type": "display_data"
    }
   ],
   "source": [
    "# Extracting info on the test dataset\n",
    "describe_df(test_df)"
   ]
  },
  {
   "cell_type": "code",
   "execution_count": 12,
   "metadata": {},
   "outputs": [],
   "source": [
    "# Removing 'Id' from categorical features list\n",
    "categorical_features.remove('id')"
   ]
  },
  {
   "cell_type": "markdown",
   "metadata": {},
   "source": [
    "Validation Dataset"
   ]
  },
  {
   "cell_type": "code",
   "execution_count": 13,
   "metadata": {},
   "outputs": [
    {
     "name": "stdout",
     "output_type": "stream",
     "text": [
      "\n",
      "DataFrame shape: (818, 3)\n",
      "\n",
      "818 samples\n",
      "\n",
      "Missing Data: \n",
      "id          0\n",
      "dialogue    0\n",
      "summary     0\n",
      "dtype: int64\n",
      "\n",
      "Duplicates: 0\n",
      "\n",
      "Categorical Features: \n",
      "id, dialogue, summary\n",
      "\n",
      "DataFrame Head: \n",
      "\n"
     ]
    },
    {
     "data": {
      "text/html": [
       "<div>\n",
       "<style scoped>\n",
       "    .dataframe tbody tr th:only-of-type {\n",
       "        vertical-align: middle;\n",
       "    }\n",
       "\n",
       "    .dataframe tbody tr th {\n",
       "        vertical-align: top;\n",
       "    }\n",
       "\n",
       "    .dataframe thead th {\n",
       "        text-align: right;\n",
       "    }\n",
       "</style>\n",
       "<table border=\"1\" class=\"dataframe\">\n",
       "  <thead>\n",
       "    <tr style=\"text-align: right;\">\n",
       "      <th></th>\n",
       "      <th>id</th>\n",
       "      <th>dialogue</th>\n",
       "      <th>summary</th>\n",
       "    </tr>\n",
       "  </thead>\n",
       "  <tbody>\n",
       "    <tr>\n",
       "      <th>0</th>\n",
       "      <td>13817023</td>\n",
       "      <td>A: Hi Tom, are you busy tomorrow’s afternoon?\\r\\nB: I’m pretty sure I am. What’s up?\\r\\nA: Can you go with me to the animal shelter?.\\r\\nB: What do you want to do?\\r\\nA: I want to get a puppy for my son.\\r\\nB: That will make him so happy.\\r\\nA: Yeah, we’ve discussed it many times. I think he’s ready now.\\r\\nB: That’s good. Raising a dog is a tough issue. Like having a baby ;-) \\r\\nA: I'll get him one of those little dogs.\\r\\nB: One that won't grow up too big;-)\\r\\nA: And eat too much;-))\\r\\nB: Do you know which one he would like?\\r\\nA: Oh, yes, I took him there last Monday. He showed me one that he really liked.\\r\\nB: I bet you had to drag him away.\\r\\nA: He wanted to take it home right away ;-).\\r\\nB: I wonder what he'll name it.\\r\\nA: He said he’d name it after his dead hamster – Lemmy  - he's  a great Motorhead fan :-)))</td>\n",
       "      <td>A will go to the animal shelter tomorrow to get a puppy for her son. They already visited the shelter last Monday and the son chose the puppy.</td>\n",
       "    </tr>\n",
       "    <tr>\n",
       "      <th>1</th>\n",
       "      <td>13716628</td>\n",
       "      <td>Emma: I’ve just fallen in love with this advent calendar! Awesome! I wanna one for my kids!\\r\\nRob: I used to get one every year as a child! Loved them! \\r\\nEmma: Yeah, i remember! they were filled with chocolates!\\r\\nLauren: they are different these days! much more sophisticated! Haha!\\r\\nRob: yeah, they can be fabric/ wooden, shop bought/ homemade, filled with various stuff\\r\\nEmma: what do you fit inside?\\r\\nLauren: small toys, Christmas decorations, creative stuff, hair bands &amp; clips, stickers, pencils &amp; rubbers, small puzzles, sweets\\r\\nEmma: WOW! That’s brill! X\\r\\nLauren: i add one more very special thing as well- little notes asking my children to do something nice for someone else\\r\\nRob: i like that! My sister adds notes asking her kids questions about christmas such as What did the 3 wise men bring? etc\\r\\nLauren: i reckon it prepares them for Christmas \\r\\nEmma: and makes it more about traditions and being kind to other people\\r\\nLauren: my children get very excited eve...</td>\n",
       "      <td>Emma and Rob love the advent calendar. Lauren fits inside calendar various items, for instance, small toys and Christmas decorations. Her children are excited whenever they get the calendar.</td>\n",
       "    </tr>\n",
       "    <tr>\n",
       "      <th>2</th>\n",
       "      <td>13829420</td>\n",
       "      <td>Jackie: Madison is pregnant\\r\\nJackie: but she doesn't wanna talk about it\\r\\nIggy: why\\r\\nJackie: I don't know why because she doesn't wanna talk about it\\r\\nIggy: ok\\r\\nJackie: I wanted to prepare you for it because people get super excited and ask lots of questions\\r\\nJackie: and she looked way more anxious than excited\\r\\nIggy: she's probably worrying about it\\r\\nIggy: she's taking every commitment really seriously\\r\\nJackie: it could be money problems or relationship problems\\r\\nIggy: or maybe she wants an abortion\\r\\nJackie: it could be all of the above\\r\\nIggy: but you know what?\\r\\nIggy: once my friend was pregnant and I couldn't bring myself to be happy about it\\r\\nJackie: why?\\r\\nIggy: I felt they were immature and I couldn't picture this couple as parents\\r\\nJackie: I felt similar way on Patricia's wedding\\r\\nIggy: Patricia Stevens?\\r\\nJackie: yes\\r\\nIggy: so we're talking about the same person\\r\\nJackie: what a coincidence\\r\\nJackie: so she's pregnant?\\r\\nIggy: she thou...</td>\n",
       "      <td>Madison is pregnant but she doesn't want to talk about it. Patricia Stevens got married and she thought she was pregnant.</td>\n",
       "    </tr>\n",
       "    <tr>\n",
       "      <th>3</th>\n",
       "      <td>13819648</td>\n",
       "      <td>Marla: &lt;file_photo&gt;\\r\\nMarla: look what I found under my bed\\r\\nKiki: lol\\r\\nTamara: is that someone's underwear?\\r\\nMarla: it certainly isn't mine, my ass is big but it isn't huge\\r\\nKiki: it looks like male underwear\\r\\nTamara: not necessarily, maybe some butch had fun in your room while you were gone\\r\\nMarla: ok but how can you leave your underwear after hooking up? wtf is wrong with people\\r\\nKiki: she or he could be too wasted to notice\\r\\nTamara: or maybe someone put their pants there to piss you off\\r\\nMarla: that makes no sense\\r\\nMarla: it's so fucking childish\\r\\nKiki: if it's childish then it must have been your sister's idea\\r\\nMarla: she's 13, she doesn't have underwear that isn't pink\\r\\nTamara: maybe it belonged to one of your exes?\\r\\nKiki: she would have recognized it\\r\\nMarla: lol we're doing total CSI investigation on one pair of boxers :D\\r\\nKiki: &lt;file_gif&gt;\\r\\nTamara: lol\\r\\nTamara: I think your sister convinced someone to put their underwear in your room as a...</td>\n",
       "      <td>Marla found a pair of boxers under her bed.</td>\n",
       "    </tr>\n",
       "    <tr>\n",
       "      <th>4</th>\n",
       "      <td>13728448</td>\n",
       "      <td>Robert: Hey give me the address of this music shop you mentioned before\\r\\nRobert: I have to buy guitar cable\\r\\nFred: &lt;file_other&gt;\\r\\nFred: Catch it on google maps\\r\\nRobert: thx m8\\r\\nFred: ur welcome</td>\n",
       "      <td>Robert wants Fred to send him the address of the music shop as he needs to buy guitar cable.</td>\n",
       "    </tr>\n",
       "  </tbody>\n",
       "</table>\n",
       "</div>"
      ],
      "text/plain": [
       "         id  \\\n",
       "0  13817023   \n",
       "1  13716628   \n",
       "2  13829420   \n",
       "3  13819648   \n",
       "4  13728448   \n",
       "\n",
       "                                                                                                                                                                                                                                                                                                                                                                                                                                                                                                                                                                                                                                                                                                                                                                                                                                                                                                                                                                                                                                  dialogue  \\\n",
       "0                                                                                                                                                                      A: Hi Tom, are you busy tomorrow’s afternoon?\\r\\nB: I’m pretty sure I am. What’s up?\\r\\nA: Can you go with me to the animal shelter?.\\r\\nB: What do you want to do?\\r\\nA: I want to get a puppy for my son.\\r\\nB: That will make him so happy.\\r\\nA: Yeah, we’ve discussed it many times. I think he’s ready now.\\r\\nB: That’s good. Raising a dog is a tough issue. Like having a baby ;-) \\r\\nA: I'll get him one of those little dogs.\\r\\nB: One that won't grow up too big;-)\\r\\nA: And eat too much;-))\\r\\nB: Do you know which one he would like?\\r\\nA: Oh, yes, I took him there last Monday. He showed me one that he really liked.\\r\\nB: I bet you had to drag him away.\\r\\nA: He wanted to take it home right away ;-).\\r\\nB: I wonder what he'll name it.\\r\\nA: He said he’d name it after his dead hamster – Lemmy  - he's  a great Motorhead fan :-)))   \n",
       "1  Emma: I’ve just fallen in love with this advent calendar! Awesome! I wanna one for my kids!\\r\\nRob: I used to get one every year as a child! Loved them! \\r\\nEmma: Yeah, i remember! they were filled with chocolates!\\r\\nLauren: they are different these days! much more sophisticated! Haha!\\r\\nRob: yeah, they can be fabric/ wooden, shop bought/ homemade, filled with various stuff\\r\\nEmma: what do you fit inside?\\r\\nLauren: small toys, Christmas decorations, creative stuff, hair bands & clips, stickers, pencils & rubbers, small puzzles, sweets\\r\\nEmma: WOW! That’s brill! X\\r\\nLauren: i add one more very special thing as well- little notes asking my children to do something nice for someone else\\r\\nRob: i like that! My sister adds notes asking her kids questions about christmas such as What did the 3 wise men bring? etc\\r\\nLauren: i reckon it prepares them for Christmas \\r\\nEmma: and makes it more about traditions and being kind to other people\\r\\nLauren: my children get very excited eve...   \n",
       "2  Jackie: Madison is pregnant\\r\\nJackie: but she doesn't wanna talk about it\\r\\nIggy: why\\r\\nJackie: I don't know why because she doesn't wanna talk about it\\r\\nIggy: ok\\r\\nJackie: I wanted to prepare you for it because people get super excited and ask lots of questions\\r\\nJackie: and she looked way more anxious than excited\\r\\nIggy: she's probably worrying about it\\r\\nIggy: she's taking every commitment really seriously\\r\\nJackie: it could be money problems or relationship problems\\r\\nIggy: or maybe she wants an abortion\\r\\nJackie: it could be all of the above\\r\\nIggy: but you know what?\\r\\nIggy: once my friend was pregnant and I couldn't bring myself to be happy about it\\r\\nJackie: why?\\r\\nIggy: I felt they were immature and I couldn't picture this couple as parents\\r\\nJackie: I felt similar way on Patricia's wedding\\r\\nIggy: Patricia Stevens?\\r\\nJackie: yes\\r\\nIggy: so we're talking about the same person\\r\\nJackie: what a coincidence\\r\\nJackie: so she's pregnant?\\r\\nIggy: she thou...   \n",
       "3  Marla: <file_photo>\\r\\nMarla: look what I found under my bed\\r\\nKiki: lol\\r\\nTamara: is that someone's underwear?\\r\\nMarla: it certainly isn't mine, my ass is big but it isn't huge\\r\\nKiki: it looks like male underwear\\r\\nTamara: not necessarily, maybe some butch had fun in your room while you were gone\\r\\nMarla: ok but how can you leave your underwear after hooking up? wtf is wrong with people\\r\\nKiki: she or he could be too wasted to notice\\r\\nTamara: or maybe someone put their pants there to piss you off\\r\\nMarla: that makes no sense\\r\\nMarla: it's so fucking childish\\r\\nKiki: if it's childish then it must have been your sister's idea\\r\\nMarla: she's 13, she doesn't have underwear that isn't pink\\r\\nTamara: maybe it belonged to one of your exes?\\r\\nKiki: she would have recognized it\\r\\nMarla: lol we're doing total CSI investigation on one pair of boxers :D\\r\\nKiki: <file_gif>\\r\\nTamara: lol\\r\\nTamara: I think your sister convinced someone to put their underwear in your room as a...   \n",
       "4                                                                                                                                                                                                                                                                                                                                                                                                                                                                                                                                                                                                                                                                                                                                                                                                                               Robert: Hey give me the address of this music shop you mentioned before\\r\\nRobert: I have to buy guitar cable\\r\\nFred: <file_other>\\r\\nFred: Catch it on google maps\\r\\nRobert: thx m8\\r\\nFred: ur welcome   \n",
       "\n",
       "                                                                                                                                                                                          summary  \n",
       "0                                                 A will go to the animal shelter tomorrow to get a puppy for her son. They already visited the shelter last Monday and the son chose the puppy.   \n",
       "1  Emma and Rob love the advent calendar. Lauren fits inside calendar various items, for instance, small toys and Christmas decorations. Her children are excited whenever they get the calendar.  \n",
       "2                                                                      Madison is pregnant but she doesn't want to talk about it. Patricia Stevens got married and she thought she was pregnant.   \n",
       "3                                                                                                                                                     Marla found a pair of boxers under her bed.  \n",
       "4                                                                                                    Robert wants Fred to send him the address of the music shop as he needs to buy guitar cable.  "
      ]
     },
     "metadata": {},
     "output_type": "display_data"
    },
    {
     "name": "stdout",
     "output_type": "stream",
     "text": [
      "\n",
      "DataFrame Tail: \n",
      "\n"
     ]
    },
    {
     "data": {
      "text/html": [
       "<div>\n",
       "<style scoped>\n",
       "    .dataframe tbody tr th:only-of-type {\n",
       "        vertical-align: middle;\n",
       "    }\n",
       "\n",
       "    .dataframe tbody tr th {\n",
       "        vertical-align: top;\n",
       "    }\n",
       "\n",
       "    .dataframe thead th {\n",
       "        text-align: right;\n",
       "    }\n",
       "</style>\n",
       "<table border=\"1\" class=\"dataframe\">\n",
       "  <thead>\n",
       "    <tr style=\"text-align: right;\">\n",
       "      <th></th>\n",
       "      <th>id</th>\n",
       "      <th>dialogue</th>\n",
       "      <th>summary</th>\n",
       "    </tr>\n",
       "  </thead>\n",
       "  <tbody>\n",
       "    <tr>\n",
       "      <th>813</th>\n",
       "      <td>13829423</td>\n",
       "      <td>Carla: I've got it...\\r\\nDiego: what?\\r\\nCarla: my date for graduation. Hope you're coming\\r\\nDiego: if you tell me when...\\r\\nCarla: oups sorry. June 4th\\r\\nDiego: we've got time.\\r\\nCarla: of course, but you have to book your plane\\r\\nDiego: i still  don't know, and it's quite expensive\\r\\nCarla: that's why you have to book it right now. Please tell me you'll come\\r\\nDiego: i'd love to for sure\\r\\nCarla: come, come, please\\r\\nDiego: ok, i'll have a look and tell you.\\r\\nCarla: you could stay  home for the week, my roommate won't be there.\\r\\nDiego: didn't you tell me your  parents would come?\\r\\nCarla: yes they will, but they've got friends they could stay with.\\r\\nDiego: what was the company you flew with when you came last month?\\r\\nCarla: aeromexico was the cheapest at that time, but check with delta\\r\\nDiego: i think there is some flight comparison websites and also some apps.\\r\\nCarla: i only know the canadian one\\r\\nDiego: don't worry i'll find out \\r\\nCarla: ok ! i've to l...</td>\n",
       "      <td>Carla's date for graduation is on June 4th. Diego will try to come then.</td>\n",
       "    </tr>\n",
       "    <tr>\n",
       "      <th>814</th>\n",
       "      <td>13727710</td>\n",
       "      <td>Gita: Hello, this is Beti's Mum Gita, I wanted to ask if you were going on the school trip?\\r\\nBev: Hi Gita, yes, Milo wants me to come, he's a bit nervous going away from home or school still.\\r\\nGita: Yes, Beti is the same, they are still only 4 or 5 after all.\\r\\nBev: I know, still so young! It will help the teachers and TAs anyway, they have a lot to cope with!\\r\\nGita: I know, I could never do their job! I work part time as a music teacher, going round schools.\\r\\nBev: Oh really? I am in Marks, part time too, love it there! \\r\\nGita: Yes, it really helps to do some sort of work doesn't it! I could never manage full time, though.\\r\\nBev: Oh, I know, Gita. My sister's in management and she doesn't see her kids from 6.30am to 6.30pm every day! She is a high flier, but she does miss them. She does do lots with them on the weekend, though.\\r\\nGita: Yes, but children need time to just be at home and play or just be with family, not galavanting around all the time!\\r\\nBev: I agree 10...</td>\n",
       "      <td>Bev is going on the school trip with her son. Gita is going on the school trip with her daughter. Bev's sister rarely sees her children during the week because of her job. Gita has a few pets at home. The mothers with their children have to be at school at 7.45 to not miss the bus.</td>\n",
       "    </tr>\n",
       "    <tr>\n",
       "      <th>815</th>\n",
       "      <td>13829261</td>\n",
       "      <td>Julia: Greg just texted me\\r\\nRobert: ugh, delete him already\\r\\nJulia: He's saying he's sorry\\r\\nRobert: damn girl, delete the bastard\\r\\nJulia: it's not that simple, you know it\\r\\nRobert: No Julia, it is pretty simple\\r\\nRobert: go and delete him\\r\\nJulia: But he apologised, ok? He's never done it before\\r\\nRobert: srsly?\\r\\nRobert: do I need to remind you he cheated on you?\\r\\nRobert: Julia I'm not going through this again with you\\r\\nJulia: People change, I do believe it, maybe he changed. He apologised\\r\\nRobert: and that's it? That' ok? how's different from two other times?\\r\\nJulia: i told you - he apologised! he's sorry, he wants to meet\\r\\nRobert: don't, honey, really. We've been through this\\r\\nJulia: I know, but it's not easy. I think I love him\\r\\nRobert: i know you do, but you need to be strong. do you want to come over?\\r\\nJulia: no, thank you love, but i have to get up early tomorrow\\r\\nRobert: ok, you should go to sleep then\\r\\nJulia: what about Greg?\\r\\nRobert: do...</td>\n",
       "      <td>Greg cheated on Julia. He apologises to her. Robert tells Julia not to meet Greg.</td>\n",
       "    </tr>\n",
       "    <tr>\n",
       "      <th>816</th>\n",
       "      <td>13680226</td>\n",
       "      <td>Marry: I broke my nail ;(\\r\\nTina: oh, no!\\r\\nMarry: u know I have that party tomorrow!!!\\r\\nTina: I know, let me think...\\r\\nTina: I got it!. My sister friend is a cosmetitian, maybe she 'll help\\r\\nMarry: anyone will be good, I'm desperate!\\r\\nTina: I'll call her and let u know, ok?\\r\\nMarry: ok, I'll wait, but hurry!</td>\n",
       "      <td>Marry broke her nail and has a party tomorrow. Tina will call a cosmetician that she knows and let Marry know if she can help.</td>\n",
       "    </tr>\n",
       "    <tr>\n",
       "      <th>817</th>\n",
       "      <td>13862383</td>\n",
       "      <td>Paige: I asked them to wait and send the declaration later\\nPaige: Even end of March if it's possible\\nMaddy: What did they say?\\nPaige: They want to close it asap cause Lisa is afraid she forgets about it later\\nPaige: But I can remind her in a couple of weeks\\nPaige: It's my responsibility after all\\nMaddy: But does it really matter? I mean the declaration\\nMaddy: I think the deadline for payment is 31 March anyway\\nPaige: I'm not sure, that's what I asked her\\nPaige: Hope she confirms</td>\n",
       "      <td>Paige wants to have the declaration sent later. Lisa wants to send it soon. The deadline for payment is 31 March.</td>\n",
       "    </tr>\n",
       "  </tbody>\n",
       "</table>\n",
       "</div>"
      ],
      "text/plain": [
       "           id  \\\n",
       "813  13829423   \n",
       "814  13727710   \n",
       "815  13829261   \n",
       "816  13680226   \n",
       "817  13862383   \n",
       "\n",
       "                                                                                                                                                                                                                                                                                                                                                                                                                                                                                                                                                                                                                                                                                                                                                                                                                                                                                                                                                                                                                                    dialogue  \\\n",
       "813  Carla: I've got it...\\r\\nDiego: what?\\r\\nCarla: my date for graduation. Hope you're coming\\r\\nDiego: if you tell me when...\\r\\nCarla: oups sorry. June 4th\\r\\nDiego: we've got time.\\r\\nCarla: of course, but you have to book your plane\\r\\nDiego: i still  don't know, and it's quite expensive\\r\\nCarla: that's why you have to book it right now. Please tell me you'll come\\r\\nDiego: i'd love to for sure\\r\\nCarla: come, come, please\\r\\nDiego: ok, i'll have a look and tell you.\\r\\nCarla: you could stay  home for the week, my roommate won't be there.\\r\\nDiego: didn't you tell me your  parents would come?\\r\\nCarla: yes they will, but they've got friends they could stay with.\\r\\nDiego: what was the company you flew with when you came last month?\\r\\nCarla: aeromexico was the cheapest at that time, but check with delta\\r\\nDiego: i think there is some flight comparison websites and also some apps.\\r\\nCarla: i only know the canadian one\\r\\nDiego: don't worry i'll find out \\r\\nCarla: ok ! i've to l...   \n",
       "814  Gita: Hello, this is Beti's Mum Gita, I wanted to ask if you were going on the school trip?\\r\\nBev: Hi Gita, yes, Milo wants me to come, he's a bit nervous going away from home or school still.\\r\\nGita: Yes, Beti is the same, they are still only 4 or 5 after all.\\r\\nBev: I know, still so young! It will help the teachers and TAs anyway, they have a lot to cope with!\\r\\nGita: I know, I could never do their job! I work part time as a music teacher, going round schools.\\r\\nBev: Oh really? I am in Marks, part time too, love it there! \\r\\nGita: Yes, it really helps to do some sort of work doesn't it! I could never manage full time, though.\\r\\nBev: Oh, I know, Gita. My sister's in management and she doesn't see her kids from 6.30am to 6.30pm every day! She is a high flier, but she does miss them. She does do lots with them on the weekend, though.\\r\\nGita: Yes, but children need time to just be at home and play or just be with family, not galavanting around all the time!\\r\\nBev: I agree 10...   \n",
       "815  Julia: Greg just texted me\\r\\nRobert: ugh, delete him already\\r\\nJulia: He's saying he's sorry\\r\\nRobert: damn girl, delete the bastard\\r\\nJulia: it's not that simple, you know it\\r\\nRobert: No Julia, it is pretty simple\\r\\nRobert: go and delete him\\r\\nJulia: But he apologised, ok? He's never done it before\\r\\nRobert: srsly?\\r\\nRobert: do I need to remind you he cheated on you?\\r\\nRobert: Julia I'm not going through this again with you\\r\\nJulia: People change, I do believe it, maybe he changed. He apologised\\r\\nRobert: and that's it? That' ok? how's different from two other times?\\r\\nJulia: i told you - he apologised! he's sorry, he wants to meet\\r\\nRobert: don't, honey, really. We've been through this\\r\\nJulia: I know, but it's not easy. I think I love him\\r\\nRobert: i know you do, but you need to be strong. do you want to come over?\\r\\nJulia: no, thank you love, but i have to get up early tomorrow\\r\\nRobert: ok, you should go to sleep then\\r\\nJulia: what about Greg?\\r\\nRobert: do...   \n",
       "816                                                                                                                                                                                                                                                                                                                                                                                                                                                                                                                                                                                                                                                                                                        Marry: I broke my nail ;(\\r\\nTina: oh, no!\\r\\nMarry: u know I have that party tomorrow!!!\\r\\nTina: I know, let me think...\\r\\nTina: I got it!. My sister friend is a cosmetitian, maybe she 'll help\\r\\nMarry: anyone will be good, I'm desperate!\\r\\nTina: I'll call her and let u know, ok?\\r\\nMarry: ok, I'll wait, but hurry!   \n",
       "817                                                                                                                                                                                                                                                                                                                                                                                                                                                                                                                             Paige: I asked them to wait and send the declaration later\\nPaige: Even end of March if it's possible\\nMaddy: What did they say?\\nPaige: They want to close it asap cause Lisa is afraid she forgets about it later\\nPaige: But I can remind her in a couple of weeks\\nPaige: It's my responsibility after all\\nMaddy: But does it really matter? I mean the declaration\\nMaddy: I think the deadline for payment is 31 March anyway\\nPaige: I'm not sure, that's what I asked her\\nPaige: Hope she confirms   \n",
       "\n",
       "                                                                                                                                                                                                                                                                                        summary  \n",
       "813                                                                                                                                                                                                                    Carla's date for graduation is on June 4th. Diego will try to come then.  \n",
       "814  Bev is going on the school trip with her son. Gita is going on the school trip with her daughter. Bev's sister rarely sees her children during the week because of her job. Gita has a few pets at home. The mothers with their children have to be at school at 7.45 to not miss the bus.  \n",
       "815                                                                                                                                                                                                           Greg cheated on Julia. He apologises to her. Robert tells Julia not to meet Greg.  \n",
       "816                                                                                                                                                             Marry broke her nail and has a party tomorrow. Tina will call a cosmetician that she knows and let Marry know if she can help.   \n",
       "817                                                                                                                                                                           Paige wants to have the declaration sent later. Lisa wants to send it soon. The deadline for payment is 31 March.  "
      ]
     },
     "metadata": {},
     "output_type": "display_data"
    }
   ],
   "source": [
    "# Extracting info on the val dataset\n",
    "describe_df(val_df)"
   ]
  },
  {
   "cell_type": "code",
   "execution_count": 14,
   "metadata": {},
   "outputs": [],
   "source": [
    "# Removing 'Id' from categorical features list\n",
    "categorical_features.remove('id')"
   ]
  },
  {
   "cell_type": "markdown",
   "metadata": {},
   "source": [
    "#### Preprocessing Data"
   ]
  },
  {
   "cell_type": "code",
   "execution_count": 15,
   "metadata": {},
   "outputs": [
    {
     "name": "stdout",
     "output_type": "stream",
     "text": [
      "Hannah: Hey, do you have Betty's number?\n",
      "Amanda: Lemme check\n",
      "Hannah: <file_gif>\n",
      "Amanda: Sorry, can't find it.\n",
      "Amanda: Ask Larry\n",
      "Amanda: He called her last time we were at the park together\n",
      "Hannah: I don't know him well\n",
      "Hannah: <file_gif>\n",
      "Amanda: Don't be shy, he's very nice\n",
      "Hannah: If you say so..\n",
      "Hannah: I'd rather you texted him\n",
      "Amanda: Just text him 🙂\n",
      "Hannah: Urgh.. Alright\n",
      "Hannah: Bye\n",
      "Amanda: Bye bye\n"
     ]
    }
   ],
   "source": [
    "# example text that contain tags\n",
    "print(test_df['dialogue'].iloc[0])"
   ]
  },
  {
   "cell_type": "code",
   "execution_count": 16,
   "metadata": {},
   "outputs": [
    {
     "name": "stdout",
     "output_type": "stream",
     "text": [
      "Theresa: <file_photo>\n",
      "Theresa: <file_photo>\n",
      "Theresa: Hey Louise, how are u?\n",
      "Theresa: This is my workplace, they always give us so much food here 😊\n",
      "Theresa: Luckily they also offer us yoga classes, so all the food isn't much of a problem 😂\n",
      "Louise: Hey!! 🙂 \n",
      "Louise: Wow, that's awesome, seems great 😎 Haha\n",
      "Louise: I'm good! Are you coming to visit Stockholm this summer? 🙂\n",
      "Theresa: I don't think so :/ I need to prepare for Uni.. I will probably attend a few lessons this winter\n",
      "Louise: Nice! Do you already know which classes you will attend?\n",
      "Theresa: Yes, it will be psychology :) I want to complete a few modules that I missed :)\n",
      "Louise: Very good! Is it at the Uni in Prague?\n",
      "Theresa: No, it will be in my home town :)\n",
      "Louise: I have so much work right now, but I will continue to work until the end of summer, then I'm also back to Uni, on the 26th September!\n",
      "Theresa: You must send me some pictures, so I can see where you live :) \n",
      "Louise: I will, and of my cat and dog too 🤗\n",
      "Theresa: Yeeeesss pls :)))\n",
      "Louise: 👌👌\n",
      "Theresa: 🐱💕\n"
     ]
    }
   ],
   "source": [
    "# example text that contain tags\n",
    "print(train_df['dialogue'].iloc[14727])"
   ]
  },
  {
   "cell_type": "code",
   "execution_count": 17,
   "metadata": {},
   "outputs": [],
   "source": [
    "# function for clean tags and empty lines\n",
    "def clean_tags(text):\n",
    "    clean = re.compile('<.*?>')\n",
    "    clean = re.sub(clean, '', text) #Replacing tags text by an empty string\n",
    "\n",
    "    clean = '\\n'.join([line for line in clean.split('\\n') if not re.match(r'.*:\\s*$',line)]) # Removing empty dialogues\n",
    "\n",
    "    return clean"
   ]
  },
  {
   "cell_type": "code",
   "execution_count": 18,
   "metadata": {},
   "outputs": [
    {
     "name": "stdout",
     "output_type": "stream",
     "text": [
      "Theresa: Hey Louise, how are u?\n",
      "Theresa: This is my workplace, they always give us so much food here 😊\n",
      "Theresa: Luckily they also offer us yoga classes, so all the food isn't much of a problem 😂\n",
      "Louise: Hey!! 🙂 \n",
      "Louise: Wow, that's awesome, seems great 😎 Haha\n",
      "Louise: I'm good! Are you coming to visit Stockholm this summer? 🙂\n",
      "Theresa: I don't think so :/ I need to prepare for Uni.. I will probably attend a few lessons this winter\n",
      "Louise: Nice! Do you already know which classes you will attend?\n",
      "Theresa: Yes, it will be psychology :) I want to complete a few modules that I missed :)\n",
      "Louise: Very good! Is it at the Uni in Prague?\n",
      "Theresa: No, it will be in my home town :)\n",
      "Louise: I have so much work right now, but I will continue to work until the end of summer, then I'm also back to Uni, on the 26th September!\n",
      "Theresa: You must send me some pictures, so I can see where you live :) \n",
      "Louise: I will, and of my cat and dog too 🤗\n",
      "Theresa: Yeeeesss pls :)))\n",
      "Louise: 👌👌\n",
      "Theresa: 🐱💕\n"
     ]
    }
   ],
   "source": [
    "# example for clean tags\n",
    "test1 = clean_tags(train_df['dialogue'].iloc[14727]) # Applying function to example text\n",
    "\n",
    "print(test1)"
   ]
  },
  {
   "cell_type": "code",
   "execution_count": 19,
   "metadata": {},
   "outputs": [],
   "source": [
    "# Apply clean tags function for entire dataset\n",
    "def clean_df(df, cols):\n",
    "    for col in cols:\n",
    "        df[col] = df[col].fillna('').apply(clean_tags)\n",
    "    return df\n",
    "\n",
    "# Cleaning texts in all datasets\n",
    "train_df = clean_df(train_df,['dialogue', 'summary'])\n",
    "test_df = clean_df(test_df,['dialogue', 'summary'])\n",
    "val_df = clean_df(val_df,['dialogue', 'summary'])"
   ]
  },
  {
   "cell_type": "code",
   "execution_count": 20,
   "metadata": {},
   "outputs": [
    {
     "data": {
      "text/html": [
       "<div>\n",
       "<style scoped>\n",
       "    .dataframe tbody tr th:only-of-type {\n",
       "        vertical-align: middle;\n",
       "    }\n",
       "\n",
       "    .dataframe tbody tr th {\n",
       "        vertical-align: top;\n",
       "    }\n",
       "\n",
       "    .dataframe thead th {\n",
       "        text-align: right;\n",
       "    }\n",
       "</style>\n",
       "<table border=\"1\" class=\"dataframe\">\n",
       "  <thead>\n",
       "    <tr style=\"text-align: right;\">\n",
       "      <th></th>\n",
       "      <th>id</th>\n",
       "      <th>dialogue</th>\n",
       "      <th>summary</th>\n",
       "    </tr>\n",
       "  </thead>\n",
       "  <tbody>\n",
       "    <tr>\n",
       "      <th>14729</th>\n",
       "      <td>13819050</td>\n",
       "      <td>John: Every day some bad news. Japan will hunt whales again\\r\\nErica: Yes, I've read this. It's very upsetting\\r\\nJohn: Cruel Japanese\\r\\nFaith: I think this is a racist remark. Because Island and Norways has never joined this international whaling agreement\\r\\nErica: really? I haven't known, everybody is so outraged by Japan\\r\\nFaith: sure, European hypocrisy \\r\\nJohn: not entirely. Scandinavians don't use the nets that Japanese use, so Norway and Island kill much less specimens that Japan will\\r\\nFaith: oh, it's much more complex than one may expect\\r\\nJohn: True, but the truth is, that all of them should stop\\r\\nJohn: and this decision is a step back\\r\\nFaith: yes, this is worrying\\r\\nErica: And it seems that the most important whaling countries are out of the agreement right now\\r\\nFaith: yes, seems so\\r\\nJohn: Just like USA leaving the Paris Agreement</td>\n",
       "      <td>Japan is going to hunt whales again. Island and Norway never stopped hunting them. The Scandinavians kill fewer whales than the Japanese.</td>\n",
       "    </tr>\n",
       "    <tr>\n",
       "      <th>14730</th>\n",
       "      <td>13828395</td>\n",
       "      <td>Jennifer: Dear Celia! How are you doing?\\r\\nJennifer: The afternoon with the Collins was very pleasant, nice folks, but we missed you.\\r\\nJennifer: But I appreciate your consideration for Peter.\\r\\nCelia: My dear Jenny! It turns out that my decision not to come, though I wanted so much to see you again and Peter and the Collins, was right. Yesterday it all developed into a full bore cold. Sh.....\\r\\nCelia: All symptoms like in a text book.\\r\\nCelia: Luckily it's contagious only on the first 2, 3 days, so when we meet next week it should be alright.\\r\\nCelia: Thanks for asking! Somehow for all of us Peter comes first now.\\r\\nJennifer: That's too bad. Poor you...\\r\\nJennifer: I'll be driving to FR, do you want me to bring you sth? It's on my way.\\r\\nCelia: Thank you dear! I was at the pharmacy yesterday and had done my shopping the day before.\\r\\nCelia: You'd better still stay away from me in case I'm still contagious\\r\\nJennifer: Right. So I'll only leave a basket on your terrace. A...</td>\n",
       "      <td>Celia couldn't make it to the afternoon with the Collins and Jennifer as she is ill. She's working, but doesn't want to meet with Jennifer as it might be contagious. Jennifer will leave a basket with cookies on Celia's terrace.</td>\n",
       "    </tr>\n",
       "    <tr>\n",
       "      <th>14731</th>\n",
       "      <td>13729017</td>\n",
       "      <td>Georgia: are you ready for hotel hunting? We need to book something finally for Lisbon\\r\\nJuliette: sure we can go on, show me what you found\\r\\nJuliette: nah... it looks like an old lady's room lol\\r\\nJuliette: that's better... but the bed doesn't look very comfortable\\r\\nGeorgia: i kind of like it and it's really close to the city center\\r\\nJuliette: show me the others please\\r\\nJuliette: nah... this one sucks too, look at those horrible curtains \\r\\nGeorgia: aff Julie you are such a princess\\r\\nJuliette: i just want to be comfortable\\r\\nGeorgia: come on, stop whining you know we are on a budget\\r\\nJuliette: well hopefully we can find something that's decent right?\\r\\nGeorgia: i did show you decent but you want a Marriott or something :/\\r\\nJuliette: ok ok don't get angry\\r\\nGeorgia: we need to decide today, the longer we wait the higher the prices get \\r\\nJuliette: ok how about we get the second one then?\\r\\nGeorgia: ok give me a second\\r\\nJuliette: sure\\r\\nGeorgia: affff someon...</td>\n",
       "      <td>Georgia and Juliette are looking for a hotel in Lisbon. Juliette dislikes Georgia's choices. Juliette and Georgia decide on the second option presented by Georgia, but it has already been booked. Finally Georgia books the third hotel.</td>\n",
       "    </tr>\n",
       "  </tbody>\n",
       "</table>\n",
       "</div>"
      ],
      "text/plain": [
       "             id  \\\n",
       "14729  13819050   \n",
       "14730  13828395   \n",
       "14731  13729017   \n",
       "\n",
       "                                                                                                                                                                                                                                                                                                                                                                                                                                                                                                                                                                                                                                                                                                                                                                                                                                                                                                                                                                                                                                      dialogue  \\\n",
       "14729                                                                                                                                     John: Every day some bad news. Japan will hunt whales again\\r\\nErica: Yes, I've read this. It's very upsetting\\r\\nJohn: Cruel Japanese\\r\\nFaith: I think this is a racist remark. Because Island and Norways has never joined this international whaling agreement\\r\\nErica: really? I haven't known, everybody is so outraged by Japan\\r\\nFaith: sure, European hypocrisy \\r\\nJohn: not entirely. Scandinavians don't use the nets that Japanese use, so Norway and Island kill much less specimens that Japan will\\r\\nFaith: oh, it's much more complex than one may expect\\r\\nJohn: True, but the truth is, that all of them should stop\\r\\nJohn: and this decision is a step back\\r\\nFaith: yes, this is worrying\\r\\nErica: And it seems that the most important whaling countries are out of the agreement right now\\r\\nFaith: yes, seems so\\r\\nJohn: Just like USA leaving the Paris Agreement   \n",
       "14730  Jennifer: Dear Celia! How are you doing?\\r\\nJennifer: The afternoon with the Collins was very pleasant, nice folks, but we missed you.\\r\\nJennifer: But I appreciate your consideration for Peter.\\r\\nCelia: My dear Jenny! It turns out that my decision not to come, though I wanted so much to see you again and Peter and the Collins, was right. Yesterday it all developed into a full bore cold. Sh.....\\r\\nCelia: All symptoms like in a text book.\\r\\nCelia: Luckily it's contagious only on the first 2, 3 days, so when we meet next week it should be alright.\\r\\nCelia: Thanks for asking! Somehow for all of us Peter comes first now.\\r\\nJennifer: That's too bad. Poor you...\\r\\nJennifer: I'll be driving to FR, do you want me to bring you sth? It's on my way.\\r\\nCelia: Thank you dear! I was at the pharmacy yesterday and had done my shopping the day before.\\r\\nCelia: You'd better still stay away from me in case I'm still contagious\\r\\nJennifer: Right. So I'll only leave a basket on your terrace. A...   \n",
       "14731  Georgia: are you ready for hotel hunting? We need to book something finally for Lisbon\\r\\nJuliette: sure we can go on, show me what you found\\r\\nJuliette: nah... it looks like an old lady's room lol\\r\\nJuliette: that's better... but the bed doesn't look very comfortable\\r\\nGeorgia: i kind of like it and it's really close to the city center\\r\\nJuliette: show me the others please\\r\\nJuliette: nah... this one sucks too, look at those horrible curtains \\r\\nGeorgia: aff Julie you are such a princess\\r\\nJuliette: i just want to be comfortable\\r\\nGeorgia: come on, stop whining you know we are on a budget\\r\\nJuliette: well hopefully we can find something that's decent right?\\r\\nGeorgia: i did show you decent but you want a Marriott or something :/\\r\\nJuliette: ok ok don't get angry\\r\\nGeorgia: we need to decide today, the longer we wait the higher the prices get \\r\\nJuliette: ok how about we get the second one then?\\r\\nGeorgia: ok give me a second\\r\\nJuliette: sure\\r\\nGeorgia: affff someon...   \n",
       "\n",
       "                                                                                                                                                                                                                                           summary  \n",
       "14729                                                                                                    Japan is going to hunt whales again. Island and Norway never stopped hunting them. The Scandinavians kill fewer whales than the Japanese.  \n",
       "14730         Celia couldn't make it to the afternoon with the Collins and Jennifer as she is ill. She's working, but doesn't want to meet with Jennifer as it might be contagious. Jennifer will leave a basket with cookies on Celia's terrace.   \n",
       "14731  Georgia and Juliette are looking for a hotel in Lisbon. Juliette dislikes Georgia's choices. Juliette and Georgia decide on the second option presented by Georgia, but it has already been booked. Finally Georgia books the third hotel.   "
      ]
     },
     "execution_count": 20,
     "metadata": {},
     "output_type": "execute_result"
    }
   ],
   "source": [
    "train_df.tail(3)"
   ]
  },
  {
   "cell_type": "code",
   "execution_count": 21,
   "metadata": {},
   "outputs": [
    {
     "name": "stdout",
     "output_type": "stream",
     "text": [
      "Dataset({\n",
      "    features: ['id', 'dialogue', 'summary', '__index_level_0__'],\n",
      "    num_rows: 14731\n",
      "})\n",
      "\n",
      "\n",
      "\n",
      "Dataset({\n",
      "    features: ['id', 'dialogue', 'summary'],\n",
      "    num_rows: 819\n",
      "})\n",
      "\n",
      "\n",
      "\n",
      "Dataset({\n",
      "    features: ['id', 'dialogue', 'summary'],\n",
      "    num_rows: 818\n",
      "})\n"
     ]
    }
   ],
   "source": [
    "# Transforming dataframes into datasets\n",
    "train_ds = Dataset.from_pandas(train_df)\n",
    "test_ds = Dataset.from_pandas(test_df)\n",
    "val_ds = Dataset.from_pandas(val_df)\n",
    "\n",
    "# Visualizing results\n",
    "print(train_ds)\n",
    "print('\\n' * 2)\n",
    "print(test_ds)\n",
    "print('\\n' * 2)\n",
    "print(val_ds)"
   ]
  },
  {
   "cell_type": "code",
   "execution_count": 22,
   "metadata": {},
   "outputs": [
    {
     "data": {
      "text/plain": [
       "{'id': '13818513',\n",
       " 'dialogue': \"Amanda: I baked  cookies. Do you want some?\\r\\nJerry: Sure!\\r\\nAmanda: I'll bring you tomorrow :-)\",\n",
       " 'summary': 'Amanda baked cookies and will bring Jerry some tomorrow.',\n",
       " '__index_level_0__': 0}"
      ]
     },
     "execution_count": 22,
     "metadata": {},
     "output_type": "execute_result"
    }
   ],
   "source": [
    "train_ds[0]"
   ]
  },
  {
   "cell_type": "markdown",
   "metadata": {},
   "source": [
    "#### Modeling"
   ]
  },
  {
   "cell_type": "code",
   "execution_count": 23,
   "metadata": {},
   "outputs": [
    {
     "name": "stderr",
     "output_type": "stream",
     "text": [
      "e:\\GIT\\Text-Summarizer\\.venv\\Lib\\site-packages\\transformers\\tokenization_utils_base.py:1601: FutureWarning: `clean_up_tokenization_spaces` was not set. It will be set to `True` by default. This behavior will be depracted in transformers v4.45, and will be then set to `False` by default. For more details check this issue: https://github.com/huggingface/transformers/issues/31884\n",
      "  warnings.warn(\n",
      "Hardware accelerator e.g. GPU is available in the environment, but no `device` argument is passed to the `Pipeline` object. Model will be on CPU.\n"
     ]
    }
   ],
   "source": [
    "# Loading summarization pipeline with the bart-large-cnn model\n",
    "summarizer = pipeline('summarization', model = 'facebook/bart-large-xsum')"
   ]
  },
  {
   "cell_type": "code",
   "execution_count": 24,
   "metadata": {},
   "outputs": [
    {
     "name": "stdout",
     "output_type": "stream",
     "text": [
      "[{'summary_text': 'If you are working with natural language processing (NLP), you need to know how to build pipelines.'}]\n",
      "\n",
      "\n",
      "\n",
      "[{'summary_text': 'The world’s oldest dog has died, Guinness World Records has confirmed.'}]\n",
      "\n",
      "\n",
      "\n",
      "[{'summary_text': 'A student from Prague in the Czech Republic, Theresa, has been in Stockholm, Sweden, for the summer.'}]\n"
     ]
    }
   ],
   "source": [
    "text = \"\"\"Hugging Face's transformers library provides many tools for modern NLP tasks.\n",
    "          With pipelines, you can easily load models and perform complex tasks like\n",
    "          text generation, summarization, or translation with minimal code.\"\"\"\n",
    "\n",
    "news = '''Bobi, the world’s oldest dog ever, has died after reaching the almost inconceivable age of 31 years and 165 days, said Guinness World Records (GWR) on Monday.\n",
    "His death at an animal hospital on Friday was initially announced by veterinarian Dr. Karen Becker.\n",
    "She wrote on Facebook that “despite outliving every dog in history, his 11,478 days on earth would never be enough, for those who loved him.”\n",
    "There were many secrets to Bobi’s extraordinary old age, his owner Leonel Costa told GWR in February. He always roamed freely, without a leash or chain, lived in a “calm, peaceful” environment and ate human food soaked in water to remove seasonings, Costa said.\n",
    "He spent his whole life in Conqueiros, a small Portuguese village about 150 kilometers (93 miles) north of the capital Lisbon, often wandering around with cats.\n",
    "Bobi was a purebred Rafeiro do Alentejo – a breed of livestock guardian dog – according to his owner. Rafeiro do Alentejos have a life expectancy of about 12-14 years, according to the American Kennel Club.\n",
    "But Bobi lived more than twice as long as that life expectancy, surpassing an almost century-old record to become the oldest living dog and the oldest dog ever – a title which had previously been held by Australian cattle-dog Bluey, who was born in 1910 and lived to be 29 years and five months old.\n",
    "However, Bobi’s story almost had a different ending.\n",
    "When he and his three siblings were born in the family’s woodshed, Costa’s father decided they already had too many animals at home.\n",
    "Costa and his brothers thought their parents had taken all the puppies away to be destroyed. However, a few sad days later, they found Bobi alive, safely hidden in a pile of logs.\n",
    "The children hid the puppy from their parents and, by the time Bobi’s existence became known, he was too old to be put down and went on to live his record-breaking life.\n",
    "His 31st birthday party in May was attended by more than 100 people and a performing dance troupe, GWR said.\n",
    "His eyesight deteriorated and walking became harder as Bobi grew older but he still spent time in the backyard with the cats, rested more and napped by the fire.\n",
    "“Bobi is special because looking at him is like remembering the people who were part of our family and unfortunately are no longer here, like my father, my brother, or my grandparents who have already left this world,” Costa told GWR in May. “Bobi represents those generations.”\n",
    "'''\n",
    "\n",
    "chat = '''\n",
    "Theresa: Hey Louise, how are u?\n",
    "Theresa: This is my workplace, they always give us so much food here 😊\n",
    "Theresa: Luckily they also offer us yoga classes, so all the food isn't much of a problem 😂\n",
    "Louise: Hey!! 🙂 \n",
    "Louise: Wow, that's awesome, seems great 😎 Haha\n",
    "Louise: I'm good! Are you coming to visit Stockholm this summer? 🙂\n",
    "Theresa: I don't think so :/ I need to prepare for Uni.. I will probably attend a few lessons this winter\n",
    "Louise: Nice! Do you already know which classes you will attend?\n",
    "Theresa: Yes, it will be psychology :) I want to complete a few modules that I missed :)\n",
    "Louise: Very good! Is it at the Uni in Prague?\n",
    "Theresa: No, it will be in my home town :)\n",
    "Louise: I have so much work right now, but I will continue to work until the end of summer, then I'm also back to Uni, on the 26th September!\n",
    "Theresa: You must send me some pictures, so I can see where you live :) \n",
    "Louise: I will, and of my cat and dog too 🤗\n",
    "Theresa: Yeeeesss pls :)))\n",
    "Louise: 👌👌\n",
    "Theresa: 🐱💕'''\n",
    "\n",
    "\n",
    "summary1 = summarizer(text)\n",
    "summary2 = summarizer(news)\n",
    "summary3 = summarizer(chat)\n",
    "\n",
    "print(summary1)\n",
    "print(\"\\n\"*2)\n",
    "print(summary2)\n",
    "print(\"\\n\"*2)\n",
    "print(summary3)"
   ]
  },
  {
   "cell_type": "markdown",
   "metadata": {},
   "source": [
    "As above result model is able to accurately produce a much shorter text. However its not capabel to summarise Dialogs accurately"
   ]
  },
  {
   "cell_type": "code",
   "execution_count": 25,
   "metadata": {},
   "outputs": [],
   "source": [
    "model_name = 'facebook/bart-large-xsum'                  # model name\n",
    "tokenizer = BartTokenizer.from_pretrained(model_name)    # Loading Tokanizer\n",
    "\n",
    "model = BartForConditionalGeneration.from_pretrained(model_name)"
   ]
  },
  {
   "cell_type": "code",
   "execution_count": 26,
   "metadata": {},
   "outputs": [],
   "source": [
    "# print(model) # Visualizing model's architecture"
   ]
  },
  {
   "cell_type": "code",
   "execution_count": 27,
   "metadata": {},
   "outputs": [],
   "source": [
    "# function for preprocess datasets\n",
    "def preprocess_function(examples):\n",
    "    inputs = [doc for doc in examples[\"dialogue\"]]\n",
    "    model_inputs = tokenizer(inputs, max_length=1024, truncation=True)\n",
    "\n",
    "    # Setup the tokenizer for targets\n",
    "    with tokenizer.as_target_tokenizer():\n",
    "        labels = tokenizer(examples[\"summary\"], max_length=128, truncation=True)\n",
    "\n",
    "    model_inputs[\"labels\"] = labels[\"input_ids\"]\n",
    "    return model_inputs"
   ]
  },
  {
   "cell_type": "code",
   "execution_count": 28,
   "metadata": {},
   "outputs": [
    {
     "data": {
      "application/vnd.jupyter.widget-view+json": {
       "model_id": "55394bf94f0e48e6adcf15cbcb95b2ba",
       "version_major": 2,
       "version_minor": 0
      },
      "text/plain": [
       "Map:   0%|          | 0/14731 [00:00<?, ? examples/s]"
      ]
     },
     "metadata": {},
     "output_type": "display_data"
    },
    {
     "name": "stderr",
     "output_type": "stream",
     "text": [
      "e:\\GIT\\Text-Summarizer\\.venv\\Lib\\site-packages\\transformers\\tokenization_utils_base.py:4126: UserWarning: `as_target_tokenizer` is deprecated and will be removed in v5 of Transformers. You can tokenize your labels by using the argument `text_target` of the regular `__call__` method (either in the same call as your input texts if you use the same keyword arguments, or in a separate call.\n",
      "  warnings.warn(\n"
     ]
    },
    {
     "data": {
      "application/vnd.jupyter.widget-view+json": {
       "model_id": "397966a16fcc487183ad4bac890f2141",
       "version_major": 2,
       "version_minor": 0
      },
      "text/plain": [
       "Map:   0%|          | 0/819 [00:00<?, ? examples/s]"
      ]
     },
     "metadata": {},
     "output_type": "display_data"
    },
    {
     "data": {
      "application/vnd.jupyter.widget-view+json": {
       "model_id": "3bf0b09358904e6299bf0ed871cab355",
       "version_major": 2,
       "version_minor": 0
      },
      "text/plain": [
       "Map:   0%|          | 0/818 [00:00<?, ? examples/s]"
      ]
     },
     "metadata": {},
     "output_type": "display_data"
    },
    {
     "name": "stdout",
     "output_type": "stream",
     "text": [
      "\n",
      "\n",
      "\n",
      "\n",
      "Preprocessed Training Dataset:\n",
      "\n",
      "Dataset({\n",
      "    features: ['input_ids', 'attention_mask', 'labels'],\n",
      "    num_rows: 14731\n",
      "})\n",
      "\n",
      "\n",
      "\n",
      "Preprocessed Test Dataset:\n",
      "\n",
      "Dataset({\n",
      "    features: ['input_ids', 'attention_mask', 'labels'],\n",
      "    num_rows: 819\n",
      "})\n",
      "\n",
      "\n",
      "\n",
      "Preprocessed Validation Dataset:\n",
      "\n",
      "Dataset({\n",
      "    features: ['input_ids', 'attention_mask', 'labels'],\n",
      "    num_rows: 818\n",
      "})\n"
     ]
    }
   ],
   "source": [
    "# Applying preprocess_function to the datasets\n",
    "tokenized_train = train_ds.map(preprocess_function, batched=True,\n",
    "                               remove_columns=['id', 'dialogue', 'summary', '__index_level_0__']) # Removing features\n",
    "\n",
    "tokenized_test = test_ds.map(preprocess_function, batched=True,\n",
    "                               remove_columns=['id', 'dialogue', 'summary']) # Removing features\n",
    "\n",
    "tokenized_val = val_ds.map(preprocess_function, batched=True,\n",
    "                               remove_columns=['id', 'dialogue', 'summary']) # Removing features\n",
    "\n",
    "# Printing results\n",
    "print('\\n' * 3)\n",
    "print('Preprocessed Training Dataset:\\n')\n",
    "print(tokenized_train)\n",
    "print('\\n' * 2)\n",
    "print('Preprocessed Test Dataset:\\n')\n",
    "print(tokenized_test)\n",
    "print('\\n' * 2)\n",
    "print('Preprocessed Validation Dataset:\\n')\n",
    "print(tokenized_val)"
   ]
  },
  {
   "cell_type": "code",
   "execution_count": 29,
   "metadata": {},
   "outputs": [
    {
     "name": "stdout",
     "output_type": "stream",
     "text": [
      "input_ids:\n",
      "[0, 10127, 5219, 35, 38, 17241, 1437, 15269, 4, 1832, 47, 236, 103, 116, 50121, 50118, 39237, 35, 9136, 328, 50121, 50118, 10127, 5219, 35, 38, 581, 836, 47, 3859, 48433, 2]\n",
      "\n",
      "\n",
      "attention_mask:\n",
      "[1, 1, 1, 1, 1, 1, 1, 1, 1, 1, 1, 1, 1, 1, 1, 1, 1, 1, 1, 1, 1, 1, 1, 1, 1, 1, 1, 1, 1, 1, 1, 1]\n",
      "\n",
      "\n",
      "sample:\n",
      "[0, 10127, 5219, 17241, 15269, 8, 40, 836, 6509, 103, 3859, 4, 2]\n",
      "\n",
      "\n"
     ]
    }
   ],
   "source": [
    "# Selecting a sample from the dataset\n",
    "sample = tokenized_train[0]\n",
    "\n",
    "# Printing its features\n",
    "print(\"input_ids:\")                    # These are the token IDs mapped to the dialogues\n",
    "print(sample['input_ids'])\n",
    "print(\"\\n\")\n",
    "print(\"attention_mask:\")               # indicates which tokens the model should pay attention to and which tokens should be ignored\n",
    "print(sample['attention_mask'])\n",
    "print(\"\\n\")\n",
    "print(\"sample:\")                       # token IDs obtained from the words and subwords in the summaries\n",
    "print(sample['labels'])\n",
    "print(\"\\n\")"
   ]
  },
  {
   "cell_type": "code",
   "execution_count": 30,
   "metadata": {},
   "outputs": [],
   "source": [
    "# Instantiating Data Collator to batch the data\n",
    "data_collator = DataCollatorForSeq2Seq(tokenizer=tokenizer, model=model)"
   ]
  },
  {
   "cell_type": "code",
   "execution_count": 31,
   "metadata": {},
   "outputs": [],
   "source": [
    "# Loading ROUGE Score\n",
    "metric = evaluate.load('rouge') "
   ]
  },
  {
   "cell_type": "code",
   "execution_count": 32,
   "metadata": {},
   "outputs": [],
   "source": [
    "def compute_metrics(eval_pred):\n",
    "    predictions, labels = eval_pred  # Obtaining predictions and true labels\n",
    "    \n",
    "    # Decoding predictions\n",
    "    decoded_preds = tokenizer.batch_decode(predictions, skip_special_tokens=True)\n",
    "    \n",
    "    # Handling masked tokens in labels (i.e., label = -100)\n",
    "    labels = np.where(labels != -100, labels, tokenizer.pad_token_id)\n",
    "    decoded_labels = tokenizer.batch_decode(labels, skip_special_tokens=True)\n",
    "\n",
    "    # Rouge expects a newline after each sentence\n",
    "    decoded_preds = [\"\\n\".join(nltk.sent_tokenize(pred.strip())) for pred in decoded_preds]\n",
    "    decoded_labels = [\"\\n\".join(nltk.sent_tokenize(label.strip())) for label in decoded_labels]\n",
    "    \n",
    "    # Compute the Rouge score\n",
    "    result = metric.compute(predictions=decoded_preds, references=decoded_labels, use_stemmer=True)\n",
    "    \n",
    "    # Check if `result` has the expected structure, and safely access fmeasure\n",
    "    if isinstance(result, dict):\n",
    "        result = {key: (value['fmeasure'] * 100 if isinstance(value, dict) and 'fmeasure' in value else value) \n",
    "                  for key, value in result.items()}\n",
    "    else:\n",
    "        print(\"Unexpected result structure:\", result)\n",
    "    \n",
    "    # Add mean-generated length\n",
    "    prediction_lens = [np.count_nonzero(pred != tokenizer.pad_token_id) for pred in predictions]\n",
    "    result[\"gen_len\"] = np.mean(prediction_lens)\n",
    "\n",
    "    return {k: round(v, 4) for k, v in result.items()}\n"
   ]
  },
  {
   "cell_type": "code",
   "execution_count": 33,
   "metadata": {},
   "outputs": [
    {
     "name": "stderr",
     "output_type": "stream",
     "text": [
      "e:\\GIT\\Text-Summarizer\\.venv\\Lib\\site-packages\\transformers\\training_args.py:1525: FutureWarning: `evaluation_strategy` is deprecated and will be removed in version 4.46 of 🤗 Transformers. Use `eval_strategy` instead\n",
      "  warnings.warn(\n"
     ]
    }
   ],
   "source": [
    "# Defining parameters for training\n",
    "training_args = Seq2SeqTrainingArguments(\n",
    "    output_dir = 'Bart_Samsum',\n",
    "    evaluation_strategy = \"steps\",\n",
    "    eval_steps = 500,\n",
    "    save_strategy = 'steps',\n",
    "    save_steps=500,\n",
    "    load_best_model_at_end = True,\n",
    "    metric_for_best_model = 'eval_loss',\n",
    "    seed = 42,\n",
    "    learning_rate=2e-5,\n",
    "    per_device_train_batch_size=4,\n",
    "    per_device_eval_batch_size=4,\n",
    "    gradient_accumulation_steps=2,\n",
    "    weight_decay=0.01,\n",
    "    save_total_limit=2,\n",
    "    num_train_epochs=4,\n",
    "    predict_with_generate=True,\n",
    "    fp16=True,\n",
    "    report_to=\"none\"\n",
    ")"
   ]
  },
  {
   "cell_type": "code",
   "execution_count": 34,
   "metadata": {},
   "outputs": [
    {
     "name": "stderr",
     "output_type": "stream",
     "text": [
      "e:\\GIT\\Text-Summarizer\\.venv\\Lib\\site-packages\\accelerate\\accelerator.py:494: FutureWarning: `torch.cuda.amp.GradScaler(args...)` is deprecated. Please use `torch.amp.GradScaler('cuda', args...)` instead.\n",
      "  self.scaler = torch.cuda.amp.GradScaler(**kwargs)\n"
     ]
    }
   ],
   "source": [
    "# Defining Trainer\n",
    "trainer = Seq2SeqTrainer(\n",
    "    model=model,\n",
    "    args=training_args,\n",
    "    train_dataset=tokenized_train,\n",
    "    eval_dataset=tokenized_test,\n",
    "    tokenizer=tokenizer,\n",
    "    data_collator=data_collator,\n",
    "    compute_metrics=compute_metrics,\n",
    "    callbacks=[EarlyStoppingCallback(early_stopping_patience=3)]\n",
    ")"
   ]
  },
  {
   "cell_type": "code",
   "execution_count": null,
   "metadata": {},
   "outputs": [],
   "source": [
    "# Training model\n",
    "trainer.train() "
   ]
  },
  {
   "cell_type": "markdown",
   "metadata": {},
   "source": [
    "#### Evaluating and Saving Model"
   ]
  },
  {
   "cell_type": "code",
   "execution_count": 69,
   "metadata": {},
   "outputs": [
    {
     "data": {
      "application/vnd.jupyter.widget-view+json": {
       "model_id": "4ec34c3ea5544f4b83998e7d0cb05cce",
       "version_major": 2,
       "version_minor": 0
      },
      "text/plain": [
       "  0%|          | 0/205 [00:00<?, ?it/s]"
      ]
     },
     "metadata": {},
     "output_type": "display_data"
    },
    {
     "name": "stdout",
     "output_type": "stream",
     "text": [
      "{'eval_loss': 1.4480781555175781, 'eval_rouge1': 0.5304, 'eval_rouge2': 0.2823, 'eval_rougeL': 0.4356, 'eval_rougeLsum': 0.4881, 'eval_gen_len': 27.4022, 'eval_runtime': 4263.0492, 'eval_samples_per_second': 0.192, 'eval_steps_per_second': 0.048, 'epoch': 1.3575889220743957}\n"
     ]
    }
   ],
   "source": [
    "# Evaluating model performance on the tokenized validation dataset\n",
    "validation = trainer.evaluate(eval_dataset = tokenized_val)\n",
    "\n",
    "print(validation) "
   ]
  },
  {
   "cell_type": "code",
   "execution_count": 70,
   "metadata": {},
   "outputs": [
    {
     "name": "stderr",
     "output_type": "stream",
     "text": [
      "Some non-default generation parameters are set in the model config. These should go into a GenerationConfig file (https://huggingface.co/docs/transformers/generation_strategies#save-a-custom-decoding-strategy-with-your-model) instead. This warning will be raised to an exception in v4.41.\n",
      "Non-default generation parameters: {'max_length': 62, 'min_length': 11, 'early_stopping': True, 'num_beams': 6, 'no_repeat_ngram_size': 3, 'forced_eos_token_id': 2}\n"
     ]
    },
    {
     "data": {
      "text/plain": [
       "('BART_Finetuned\\\\tokenizer_config.json',\n",
       " 'BART_Finetuned\\\\special_tokens_map.json',\n",
       " 'BART_Finetuned\\\\vocab.json',\n",
       " 'BART_Finetuned\\\\merges.txt',\n",
       " 'BART_Finetuned\\\\added_tokens.json')"
      ]
     },
     "execution_count": 70,
     "metadata": {},
     "output_type": "execute_result"
    }
   ],
   "source": [
    "# Saving model \n",
    "directory = \"BART_Finetuned\"\n",
    "trainer.save_model(directory)\n",
    "\n",
    "# Saving model tokenizer\n",
    "tokenizer.save_pretrained(directory)"
   ]
  },
  {
   "cell_type": "markdown",
   "metadata": {},
   "source": [
    "upload trained model to hugging-face"
   ]
  },
  {
   "cell_type": "code",
   "execution_count": 62,
   "metadata": {},
   "outputs": [
    {
     "data": {
      "application/vnd.jupyter.widget-view+json": {
       "model_id": "b187c8b723cb4844a2aa0b1bfce3a54e",
       "version_major": 2,
       "version_minor": 0
      },
      "text/plain": [
       "VBox(children=(HTML(value='<center> <img\\nsrc=https://huggingface.co/front/assets/huggingface_logo-noborder.sv…"
      ]
     },
     "metadata": {},
     "output_type": "display_data"
    }
   ],
   "source": [
    "from huggingface_hub import notebook_login\n",
    "\n",
    "notebook_login()"
   ]
  },
  {
   "cell_type": "code",
   "execution_count": 65,
   "metadata": {},
   "outputs": [
    {
     "name": "stderr",
     "output_type": "stream",
     "text": [
      "Some non-default generation parameters are set in the model config. These should go into a GenerationConfig file (https://huggingface.co/docs/transformers/generation_strategies#save-a-custom-decoding-strategy-with-your-model) instead. This warning will be raised to an exception in v4.41.\n",
      "Non-default generation parameters: {'max_length': 62, 'min_length': 11, 'early_stopping': True, 'num_beams': 6, 'no_repeat_ngram_size': 3, 'forced_eos_token_id': 2}\n"
     ]
    },
    {
     "data": {
      "application/vnd.jupyter.widget-view+json": {
       "model_id": "07631be76b7c4c0e94ecb5319ce13d04",
       "version_major": 2,
       "version_minor": 0
      },
      "text/plain": [
       "model.safetensors:   0%|          | 0.00/1.63G [00:00<?, ?B/s]"
      ]
     },
     "metadata": {},
     "output_type": "display_data"
    },
    {
     "data": {
      "application/vnd.jupyter.widget-view+json": {
       "model_id": "893f30f566a849d5a521c1aaeda55a90",
       "version_major": 2,
       "version_minor": 0
      },
      "text/plain": [
       "README.md:   0%|          | 0.00/5.17k [00:00<?, ?B/s]"
      ]
     },
     "metadata": {},
     "output_type": "display_data"
    },
    {
     "name": "stderr",
     "output_type": "stream",
     "text": [
      "e:\\GIT\\Text-Summarizer\\.venv\\Lib\\site-packages\\huggingface_hub\\file_download.py:147: UserWarning: `huggingface_hub` cache-system uses symlinks by default to efficiently store duplicated files but your machine does not support them in C:\\Users\\user\\.cache\\huggingface\\hub\\models--MaleeshaAlu--bart_samsum_trained. Caching files will still work but in a degraded version that might require more space on your disk. This warning can be disabled by setting the `HF_HUB_DISABLE_SYMLINKS_WARNING` environment variable. For more details, see https://huggingface.co/docs/huggingface_hub/how-to-cache#limitations.\n",
      "To support symlinks on Windows, you either need to activate Developer Mode or to run Python as an administrator. In order to activate developer mode, see this article: https://docs.microsoft.com/en-us/windows/apps/get-started/enable-your-device-for-development\n",
      "  warnings.warn(message)\n"
     ]
    },
    {
     "data": {
      "text/plain": [
       "CommitInfo(commit_url='https://huggingface.co/MaleeshaAlu/bart_samsum_trained/commit/0624f04181532e5c3f4ddd144ea7f46adf53f5a5', commit_message='Upload tokenizer', commit_description='', oid='0624f04181532e5c3f4ddd144ea7f46adf53f5a5', pr_url=None, repo_url=RepoUrl('https://huggingface.co/MaleeshaAlu/bart_samsum_trained', endpoint='https://huggingface.co', repo_type='model', repo_id='MaleeshaAlu/bart_samsum_trained'), pr_revision=None, pr_num=None)"
      ]
     },
     "execution_count": 65,
     "metadata": {},
     "output_type": "execute_result"
    }
   ],
   "source": [
    "from transformers import AutoTokenizer, AutoModelForSeq2SeqLM\n",
    "from huggingface_hub import HfApi, HfFolder, Repository\n",
    "\n",
    "model_name = \"MaleeshaAlu/bart_samsum_trained\"\n",
    "\n",
    "model = AutoModelForSeq2SeqLM.from_pretrained(\"BART_Finetuned\")\n",
    "tokenizer = AutoTokenizer.from_pretrained(\"BART_Finetuned\")\n",
    "\n",
    "model.push_to_hub(model_name)\n",
    "tokenizer.push_to_hub(model_name)\n"
   ]
  },
  {
   "cell_type": "code",
   "execution_count": 8,
   "metadata": {},
   "outputs": [],
   "source": [
    "from rouge_score import rouge_scorer\n",
    "\n",
    "def compute_rouge(predictions,references):\n",
    "    # Initialize the scorer with desired ROUGE metrics\n",
    "    scorer = rouge_scorer.RougeScorer(['rouge1', 'rouge2', 'rougeL'], use_stemmer=True)\n",
    "\n",
    "    scores = scorer.score(references[0], predictions[0])\n",
    "\n",
    "    # Display separate values for precision, recall, and F1-score for ROUGE-1, ROUGE-2, and ROUGE-L\n",
    "    print(\"ROUGE-1:\")\n",
    "    print(f\"Precision: {scores['rouge1'].precision}\")\n",
    "    print(f\"Recall: {scores['rouge1'].recall}\")\n",
    "    print(f\"F1-Score: {scores['rouge1'].fmeasure}\\n\")\n",
    "\n",
    "    print(\"ROUGE-2:\")\n",
    "    print(f\"Precision: {scores['rouge2'].precision}\")\n",
    "    print(f\"Recall: {scores['rouge2'].recall}\")\n",
    "    print(f\"F1-Score: {scores['rouge2'].fmeasure}\\n\")\n",
    "\n",
    "    print(\"ROUGE-L:\")\n",
    "    print(f\"Precision: {scores['rougeL'].precision}\")\n",
    "    print(f\"Recall: {scores['rougeL'].recall}\")\n",
    "    print(f\"F1-Score: {scores['rougeL'].fmeasure}\")"
   ]
  },
  {
   "cell_type": "markdown",
   "metadata": {},
   "source": [
    "examples from the validation dataset"
   ]
  },
  {
   "cell_type": "code",
   "execution_count": 67,
   "metadata": {},
   "outputs": [
    {
     "name": "stderr",
     "output_type": "stream",
     "text": [
      "Hardware accelerator e.g. GPU is available in the environment, but no `device` argument is passed to the `Pipeline` object. Model will be on CPU.\n"
     ]
    }
   ],
   "source": [
    "# loading the model\n",
    "summarizer = pipeline(\"text2text-generation\", model=\"MaleeshaAlu/bart_samsum_trained\")\n"
   ]
  },
  {
   "cell_type": "code",
   "execution_count": 72,
   "metadata": {},
   "outputs": [
    {
     "data": {
      "text/plain": [
       "{'id': '13829845',\n",
       " 'dialogue': \"Ken: Do you use endomondo?\\r\\nMartha: Yeah, everyday, you installed too? :)\\r\\nKen: I did, I started running and wanted to track my progress\\r\\nMartha: And?\\r\\nKen: It doesn't work properly I think or maybe there's something wrong with my phone.\\r\\nKen: I went for a jog, turned it on and I'm sure I wasn't running for more than an hour. I checked it for my results and it was off\\r\\nMartha: Hm, weird...\\r\\nKen: I know, I wasn't using my phone at all, just had it with me while I was jogging\\r\\nMartha: Did you have any notification?\\r\\nKen: No, the battery was almost depleted though\\r\\nMartha: Eh, it happens in certain models, unfortunately. It works fine with mine, but my friend had a similar issue. Maybe your phone's battery or processor, I don't really know, is too weak for it\\r\\nKen: Maybe, but that's weird, it's just a fitness app\",\n",
       " 'summary': 'Ken has installed an app for running but it is not working properly on his phone. '}"
      ]
     },
     "execution_count": 72,
     "metadata": {},
     "output_type": "execute_result"
    }
   ],
   "source": [
    "# random example from the validation dataset\n",
    "val_ds[40]"
   ]
  },
  {
   "cell_type": "code",
   "execution_count": 74,
   "metadata": {},
   "outputs": [],
   "source": [
    "text = \"Ken: Do you use endomondo?\\r\\nMartha: Yeah, everyday, you installed too? :)\\r\\nKen: I did, I started running and wanted to track my progress\\r\\nMartha: And?\\r\\nKen: It doesn't work properly I think or maybe there's something wrong with my phone.\\r\\nKen: I went for a jog, turned it on and I'm sure I wasn't running for more than an hour. I checked it for my results and it was off\\r\\nMartha: Hm, weird...\\r\\nKen: I know, I wasn't using my phone at all, just had it with me while I was jogging\\r\\nMartha: Did you have any notification?\\r\\nKen: No, the battery was almost depleted though\\r\\nMartha: Eh, it happens in certain models, unfortunately. It works fine with mine, but my friend had a similar issue. Maybe your phone's battery or processor, I don't really know, is too weak for it\\r\\nKen: Maybe, but that's weird, it's just a fitness app\"\n",
    "summary = \"Ken has installed an app for running but it is not working properly on his phone. \"\n",
    "generated_summary = summarizer(text)"
   ]
  },
  {
   "cell_type": "code",
   "execution_count": 75,
   "metadata": {},
   "outputs": [
    {
     "name": "stdout",
     "output_type": "stream",
     "text": [
      "Original Dialogue:\n",
      "\n",
      "Ken: Do you use endomondo?\n",
      "Martha: Yeah, everyday, you installed too? :)\n",
      "Ken: I did, I started running and wanted to track my progress\n",
      "Martha: And?\n",
      "Ken: It doesn't work properly I think or maybe there's something wrong with my phone.\n",
      "Ken: I went for a jog, turned it on and I'm sure I wasn't running for more than an hour. I checked it for my results and it was off\n",
      "Martha: Hm, weird...\n",
      "Ken: I know, I wasn't using my phone at all, just had it with me while I was jogging\n",
      "Martha: Did you have any notification?\n",
      "Ken: No, the battery was almost depleted though\n",
      "Martha: Eh, it happens in certain models, unfortunately. It works fine with mine, but my friend had a similar issue. Maybe your phone's battery or processor, I don't really know, is too weak for it\n",
      "Ken: Maybe, but that's weird, it's just a fitness app\n",
      "\n",
      "\n",
      "\n",
      "Reference Summary:\n",
      "\n",
      "Ken has installed an app for running but it is not working properly on his phone. \n",
      "\n",
      "\n",
      "\n",
      "Model-generated Summary:\n",
      "\n",
      "[{'generated_text': \"Ken's phone doesn't work properly with Endomondo. Martha's friend had the same issue.\"}]\n"
     ]
    }
   ],
   "source": [
    "print('Original Dialogue:\\n')\n",
    "print(text)\n",
    "print('\\n' * 2)\n",
    "print('Reference Summary:\\n')\n",
    "print(summary)\n",
    "print('\\n' * 2)\n",
    "print('Model-generated Summary:\\n')\n",
    "print(generated_summary)"
   ]
  },
  {
   "cell_type": "code",
   "execution_count": 9,
   "metadata": {},
   "outputs": [
    {
     "name": "stdout",
     "output_type": "stream",
     "text": [
      "ROUGE-1:\n",
      "Precision: 0.25\n",
      "Recall: 0.25\n",
      "F1-Score: 0.25\n",
      "\n",
      "ROUGE-2:\n",
      "Precision: 0.06666666666666667\n",
      "Recall: 0.06666666666666667\n",
      "F1-Score: 0.06666666666666667\n",
      "\n",
      "ROUGE-L:\n",
      "Precision: 0.1875\n",
      "Recall: 0.1875\n",
      "F1-Score: 0.1875\n"
     ]
    }
   ],
   "source": [
    "predictions = [\"Ken's phone doesn't work properly with Endomondo. Martha's friend had the same issue.\"]\n",
    "references = [\"Ken has installed an app for running but it is not working properly on his phone.\"]\n",
    "\n",
    "compute_rouge(predictions,references)"
   ]
  },
  {
   "cell_type": "markdown",
   "metadata": {},
   "source": [
    "the model-generated summary is longer than the reference summary. However,the model-generated summary is more informative than the reference one"
   ]
  },
  {
   "cell_type": "code",
   "execution_count": 77,
   "metadata": {},
   "outputs": [
    {
     "data": {
      "text/plain": [
       "{'id': '13819816-1',\n",
       " 'dialogue': \"Mike: Do you know where Tomas is from?\\r\\nJenny: Eastern Europe I believe\\r\\nMike: sure, but what country exactly\\r\\nMike: I heard him speaking English today with Kamil, so I think he's not Polish\\r\\nJack: Really? I was sure he was Polish\\r\\nKyle: He's from Slovenia\\r\\nMike: oh, how cute, how do you know?\\r\\nKyle: We talked many times about Slovenia and his home town\\r\\nMike: Which is?\\r\\nKyle: Bled I think, close to the Alps\\r\\nJack: and why do you find Slovenia cute? hahaha\\r\\nMike: I think he's the only Slovenian in the company now\\r\\nJack: true, quite exotic\",\n",
       " 'summary': 'Mike, Jenny and Jack wonder where Tomas is from. Kyle is sure Tomas is from Slovenia. Mike thinks Tomas is now the only Slovenian in the company.'}"
      ]
     },
     "execution_count": 77,
     "metadata": {},
     "output_type": "execute_result"
    }
   ],
   "source": [
    "# random example from the validation dataset\n",
    "val_ds[100]"
   ]
  },
  {
   "cell_type": "code",
   "execution_count": 78,
   "metadata": {},
   "outputs": [],
   "source": [
    "text = \"Mike: Do you know where Tomas is from?\\r\\nJenny: Eastern Europe I believe\\r\\nMike: sure, but what country exactly\\r\\nMike: I heard him speaking English today with Kamil, so I think he's not Polish\\r\\nJack: Really? I was sure he was Polish\\r\\nKyle: He's from Slovenia\\r\\nMike: oh, how cute, how do you know?\\r\\nKyle: We talked many times about Slovenia and his home town\\r\\nMike: Which is?\\r\\nKyle: Bled I think, close to the Alps\\r\\nJack: and why do you find Slovenia cute? hahaha\\r\\nMike: I think he's the only Slovenian in the company now\\r\\nJack: true, quite exotic\"\n",
    "summary = 'Mike, Jenny and Jack wonder where Tomas is from. Kyle is sure Tomas is from Slovenia. Mike thinks Tomas is now the only Slovenian in the company.'\n",
    "generated_summary = summarizer(text)"
   ]
  },
  {
   "cell_type": "code",
   "execution_count": 79,
   "metadata": {},
   "outputs": [
    {
     "name": "stdout",
     "output_type": "stream",
     "text": [
      "Original Dialogue:\n",
      "\n",
      "Mike: Do you know where Tomas is from?\n",
      "Jenny: Eastern Europe I believe\n",
      "Mike: sure, but what country exactly\n",
      "Mike: I heard him speaking English today with Kamil, so I think he's not Polish\n",
      "Jack: Really? I was sure he was Polish\n",
      "Kyle: He's from Slovenia\n",
      "Mike: oh, how cute, how do you know?\n",
      "Kyle: We talked many times about Slovenia and his home town\n",
      "Mike: Which is?\n",
      "Kyle: Bled I think, close to the Alps\n",
      "Jack: and why do you find Slovenia cute? hahaha\n",
      "Mike: I think he's the only Slovenian in the company now\n",
      "Jack: true, quite exotic\n",
      "\n",
      "\n",
      "\n",
      "Reference Summary:\n",
      "\n",
      "Mike, Jenny and Jack wonder where Tomas is from. Kyle is sure Tomas is from Slovenia. Mike thinks Tomas is now the only Slovenian in the company.\n",
      "\n",
      "\n",
      "\n",
      "Model-generated Summary:\n",
      "\n",
      "[{'generated_text': \"Tomas is from Slovenia. He's from Bled, close to the Alps. He is the only Slovenian in the company.\"}]\n"
     ]
    }
   ],
   "source": [
    "print('Original Dialogue:\\n')\n",
    "print(text)\n",
    "print('\\n' * 2)\n",
    "print('Reference Summary:\\n')\n",
    "print(summary)\n",
    "print('\\n' * 2)\n",
    "print('Model-generated Summary:\\n')\n",
    "print(generated_summary)"
   ]
  },
  {
   "cell_type": "code",
   "execution_count": 7,
   "metadata": {},
   "outputs": [
    {
     "name": "stdout",
     "output_type": "stream",
     "text": [
      "ROUGE-1:\n",
      "Precision: 0.6\n",
      "Recall: 0.42857142857142855\n",
      "F1-Score: 0.5\n",
      "\n",
      "ROUGE-2:\n",
      "Precision: 0.42105263157894735\n",
      "Recall: 0.2962962962962963\n",
      "F1-Score: 0.34782608695652173\n",
      "\n",
      "ROUGE-L:\n",
      "Precision: 0.55\n",
      "Recall: 0.39285714285714285\n",
      "F1-Score: 0.45833333333333337\n"
     ]
    }
   ],
   "source": [
    "predictions = [\"Tomas is from Slovenia. He's from Bled, close to the Alps. He is the only Slovenian in the company.\"]\n",
    "references = [\"summary = 'Mike, Jenny and Jack wonder where Tomas is from. Kyle is sure Tomas is from Slovenia. Mike thinks Tomas is now the only Slovenian in the company.\"]\n",
    "\n",
    "compute_rouge(predictions,references)\n",
    "\n"
   ]
  },
  {
   "cell_type": "markdown",
   "metadata": {},
   "source": [
    "Giving model unseen dialog and see the how model performe"
   ]
  },
  {
   "cell_type": "code",
   "execution_count": 95,
   "metadata": {},
   "outputs": [
    {
     "name": "stdout",
     "output_type": "stream",
     "text": [
      "Original Dialogue:\n",
      "\n",
      "Nisalka: Who do you think is going to win the election?\n",
      "Yasiru: I believe Anura should win but I'm sure Ranil is cheating!\n",
      "Nisalka: Why do you say that? Can you prove Ranil is really cheating?\n",
      "Yasiru: I can't! But I just know!\n",
      "Nisalka: You shouldn't accuse him of cheating if you don't have any evidence to support it.\n",
      "\n",
      "\n",
      "\n",
      "Model-generated Summary:\n",
      "\n",
      "[{'generated_text': 'Yasiru believes Anura should win the election, but he thinks Ranil is cheating.'}]\n"
     ]
    }
   ],
   "source": [
    "text = \"Nisalka: Who do you think is going to win the election?\\r\\nYasiru: I believe Anura should win but I'm sure Ranil is cheating!\\r\\nNisalka: Why do you say that? Can you prove Ranil is really cheating?\\r\\nYasiru: I can't! But I just know!\\r\\nNisalka: You shouldn't accuse him of cheating if you don't have any evidence to support it.\"\n",
    "generated_summary = summarizer(text)\n",
    "\n",
    "print('Original Dialogue:\\n')\n",
    "print(text)\n",
    "print('\\n' * 2)\n",
    "print('Model-generated Summary:\\n')\n",
    "print(generated_summary)"
   ]
  },
  {
   "cell_type": "code",
   "execution_count": 91,
   "metadata": {},
   "outputs": [
    {
     "name": "stdout",
     "output_type": "stream",
     "text": [
      "Original Dialogue:\n",
      "\n",
      "Anoj: Hey pula! I've been thinking about to playing the Black Myth Wukong. Do you think it is worth it? \n",
      "Pulasthi: Idk man. R u sure ur going to have enough free time to play it? \n",
      "Anoj: Yeah, that's why I'm not sure if I should buy one or not. I've been working so much lately idk if I'm gonna be able to play it as much as I'd like. \n",
      "Pulasthi: suit yourself man.\n",
      "\n",
      "\n",
      "\n",
      "Model-generated Summary:\n",
      "\n",
      "[{'generated_text': \"Anoj is thinking about buying a Black Myth Wukong game, but he doesn't know if he has enough time to play it.\"}]\n"
     ]
    }
   ],
   "source": [
    "text = \"Anoj: Hey pula! I've been thinking about to playing the Black Myth Wukong. Do you think it is worth it? \\r\\nPulasthi: Idk man. R u sure ur going to have enough free time to play it? \\r\\nAnoj: Yeah, that's why I'm not sure if I should buy one or not. I've been working so much lately idk if I'm gonna be able to play it as much as I'd like. \\r\\nPulasthi: suit yourself man.\"\n",
    "generated_summary = summarizer(text)\n",
    "\n",
    "print('Original Dialogue:\\n')\n",
    "print(text)\n",
    "print('\\n' * 2)\n",
    "print('Model-generated Summary:\\n')\n",
    "print(generated_summary)"
   ]
  }
 ],
 "metadata": {
  "kernelspec": {
   "display_name": ".venv",
   "language": "python",
   "name": "python3"
  },
  "language_info": {
   "codemirror_mode": {
    "name": "ipython",
    "version": 3
   },
   "file_extension": ".py",
   "mimetype": "text/x-python",
   "name": "python",
   "nbconvert_exporter": "python",
   "pygments_lexer": "ipython3",
   "version": "3.12.3"
  }
 },
 "nbformat": 4,
 "nbformat_minor": 2
}
